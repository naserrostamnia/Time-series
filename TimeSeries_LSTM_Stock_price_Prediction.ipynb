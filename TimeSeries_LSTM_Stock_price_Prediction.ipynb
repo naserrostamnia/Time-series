{
  "nbformat": 4,
  "nbformat_minor": 0,
  "metadata": {
    "colab": {
      "provenance": []
    },
    "kernelspec": {
      "name": "python3",
      "display_name": "Python 3"
    },
    "language_info": {
      "name": "python"
    }
  },
  "cells": [
    {
      "cell_type": "code",
      "source": [
        "from google.colab import drive\n",
        "drive.mount('/content/dirve')"
      ],
      "metadata": {
        "colab": {
          "base_uri": "https://localhost:8080/"
        },
        "id": "Ue058ZQ7hIlP",
        "outputId": "571016af-a8cc-4056-8311-c11cdace447c"
      },
      "execution_count": 424,
      "outputs": [
        {
          "output_type": "stream",
          "name": "stdout",
          "text": [
            "Drive already mounted at /content/dirve; to attempt to forcibly remount, call drive.mount(\"/content/dirve\", force_remount=True).\n"
          ]
        }
      ]
    },
    {
      "cell_type": "code",
      "source": [
        "%cd /content/dirve/MyDrive/Colab Notebooks/Time Series/LSTM_Stoc-price_Prediction"
      ],
      "metadata": {
        "colab": {
          "base_uri": "https://localhost:8080/"
        },
        "id": "V4L1POMihZtf",
        "outputId": "bed28fc0-3c20-44a2-e4e4-6b2d815c0cc2"
      },
      "execution_count": 425,
      "outputs": [
        {
          "output_type": "stream",
          "name": "stdout",
          "text": [
            "/content/dirve/MyDrive/Colab Notebooks/Time Series/LSTM_Stoc-price_Prediction\n"
          ]
        }
      ]
    },
    {
      "cell_type": "code",
      "execution_count": 426,
      "metadata": {
        "id": "c3IE6eUTe2N3"
      },
      "outputs": [],
      "source": [
        "import pandas as pd\n",
        "import numpy as np\n",
        "import matplotlib.pyplot as plt\n",
        "import seaborn as sns\n",
        "\n",
        "from tensorflow import keras\n",
        "from keras.callbacks import EarlyStopping\n",
        "from tensorflow.keras.optimizers import Adam\n",
        "\n",
        "from sklearn.preprocessing import StandardScaler\n",
        "from sklearn.metrics import mean_absolute_error, mean_squared_error"
      ]
    },
    {
      "cell_type": "markdown",
      "source": [
        "# Loading dataset and handling Date'type and fequency"
      ],
      "metadata": {
        "id": "owHlzmpRpHcr"
      }
    },
    {
      "cell_type": "code",
      "source": [
        "df = pd.read_csv('MicrosoftStock.csv', index_col='date', parse_dates=True)\n",
        "df.drop('index', axis=1, inplace=True)\n",
        "df.head()"
      ],
      "metadata": {
        "colab": {
          "base_uri": "https://localhost:8080/",
          "height": 238
        },
        "id": "mkfsGdbze9lU",
        "outputId": "5c4a7d80-d9f0-43cd-d995-562bbd75a40f"
      },
      "execution_count": 427,
      "outputs": [
        {
          "output_type": "execute_result",
          "data": {
            "text/plain": [
              "             open   high    low  close    volume  Name\n",
              "date                                                  \n",
              "2013-02-08  27.35  27.71  27.31  27.55  33318306  MSFT\n",
              "2013-02-11  27.65  27.92  27.50  27.86  32247549  MSFT\n",
              "2013-02-12  27.88  28.00  27.75  27.88  35990829  MSFT\n",
              "2013-02-13  27.93  28.11  27.88  28.03  41715530  MSFT\n",
              "2013-02-14  27.92  28.06  27.87  28.04  32663174  MSFT"
            ],
            "text/html": [
              "\n",
              "  <div id=\"df-f084b305-75fd-4f9f-8d9b-3dc8b6cbc7c7\" class=\"colab-df-container\">\n",
              "    <div>\n",
              "<style scoped>\n",
              "    .dataframe tbody tr th:only-of-type {\n",
              "        vertical-align: middle;\n",
              "    }\n",
              "\n",
              "    .dataframe tbody tr th {\n",
              "        vertical-align: top;\n",
              "    }\n",
              "\n",
              "    .dataframe thead th {\n",
              "        text-align: right;\n",
              "    }\n",
              "</style>\n",
              "<table border=\"1\" class=\"dataframe\">\n",
              "  <thead>\n",
              "    <tr style=\"text-align: right;\">\n",
              "      <th></th>\n",
              "      <th>open</th>\n",
              "      <th>high</th>\n",
              "      <th>low</th>\n",
              "      <th>close</th>\n",
              "      <th>volume</th>\n",
              "      <th>Name</th>\n",
              "    </tr>\n",
              "    <tr>\n",
              "      <th>date</th>\n",
              "      <th></th>\n",
              "      <th></th>\n",
              "      <th></th>\n",
              "      <th></th>\n",
              "      <th></th>\n",
              "      <th></th>\n",
              "    </tr>\n",
              "  </thead>\n",
              "  <tbody>\n",
              "    <tr>\n",
              "      <th>2013-02-08</th>\n",
              "      <td>27.35</td>\n",
              "      <td>27.71</td>\n",
              "      <td>27.31</td>\n",
              "      <td>27.55</td>\n",
              "      <td>33318306</td>\n",
              "      <td>MSFT</td>\n",
              "    </tr>\n",
              "    <tr>\n",
              "      <th>2013-02-11</th>\n",
              "      <td>27.65</td>\n",
              "      <td>27.92</td>\n",
              "      <td>27.50</td>\n",
              "      <td>27.86</td>\n",
              "      <td>32247549</td>\n",
              "      <td>MSFT</td>\n",
              "    </tr>\n",
              "    <tr>\n",
              "      <th>2013-02-12</th>\n",
              "      <td>27.88</td>\n",
              "      <td>28.00</td>\n",
              "      <td>27.75</td>\n",
              "      <td>27.88</td>\n",
              "      <td>35990829</td>\n",
              "      <td>MSFT</td>\n",
              "    </tr>\n",
              "    <tr>\n",
              "      <th>2013-02-13</th>\n",
              "      <td>27.93</td>\n",
              "      <td>28.11</td>\n",
              "      <td>27.88</td>\n",
              "      <td>28.03</td>\n",
              "      <td>41715530</td>\n",
              "      <td>MSFT</td>\n",
              "    </tr>\n",
              "    <tr>\n",
              "      <th>2013-02-14</th>\n",
              "      <td>27.92</td>\n",
              "      <td>28.06</td>\n",
              "      <td>27.87</td>\n",
              "      <td>28.04</td>\n",
              "      <td>32663174</td>\n",
              "      <td>MSFT</td>\n",
              "    </tr>\n",
              "  </tbody>\n",
              "</table>\n",
              "</div>\n",
              "    <div class=\"colab-df-buttons\">\n",
              "\n",
              "  <div class=\"colab-df-container\">\n",
              "    <button class=\"colab-df-convert\" onclick=\"convertToInteractive('df-f084b305-75fd-4f9f-8d9b-3dc8b6cbc7c7')\"\n",
              "            title=\"Convert this dataframe to an interactive table.\"\n",
              "            style=\"display:none;\">\n",
              "\n",
              "  <svg xmlns=\"http://www.w3.org/2000/svg\" height=\"24px\" viewBox=\"0 -960 960 960\">\n",
              "    <path d=\"M120-120v-720h720v720H120Zm60-500h600v-160H180v160Zm220 220h160v-160H400v160Zm0 220h160v-160H400v160ZM180-400h160v-160H180v160Zm440 0h160v-160H620v160ZM180-180h160v-160H180v160Zm440 0h160v-160H620v160Z\"/>\n",
              "  </svg>\n",
              "    </button>\n",
              "\n",
              "  <style>\n",
              "    .colab-df-container {\n",
              "      display:flex;\n",
              "      gap: 12px;\n",
              "    }\n",
              "\n",
              "    .colab-df-convert {\n",
              "      background-color: #E8F0FE;\n",
              "      border: none;\n",
              "      border-radius: 50%;\n",
              "      cursor: pointer;\n",
              "      display: none;\n",
              "      fill: #1967D2;\n",
              "      height: 32px;\n",
              "      padding: 0 0 0 0;\n",
              "      width: 32px;\n",
              "    }\n",
              "\n",
              "    .colab-df-convert:hover {\n",
              "      background-color: #E2EBFA;\n",
              "      box-shadow: 0px 1px 2px rgba(60, 64, 67, 0.3), 0px 1px 3px 1px rgba(60, 64, 67, 0.15);\n",
              "      fill: #174EA6;\n",
              "    }\n",
              "\n",
              "    .colab-df-buttons div {\n",
              "      margin-bottom: 4px;\n",
              "    }\n",
              "\n",
              "    [theme=dark] .colab-df-convert {\n",
              "      background-color: #3B4455;\n",
              "      fill: #D2E3FC;\n",
              "    }\n",
              "\n",
              "    [theme=dark] .colab-df-convert:hover {\n",
              "      background-color: #434B5C;\n",
              "      box-shadow: 0px 1px 3px 1px rgba(0, 0, 0, 0.15);\n",
              "      filter: drop-shadow(0px 1px 2px rgba(0, 0, 0, 0.3));\n",
              "      fill: #FFFFFF;\n",
              "    }\n",
              "  </style>\n",
              "\n",
              "    <script>\n",
              "      const buttonEl =\n",
              "        document.querySelector('#df-f084b305-75fd-4f9f-8d9b-3dc8b6cbc7c7 button.colab-df-convert');\n",
              "      buttonEl.style.display =\n",
              "        google.colab.kernel.accessAllowed ? 'block' : 'none';\n",
              "\n",
              "      async function convertToInteractive(key) {\n",
              "        const element = document.querySelector('#df-f084b305-75fd-4f9f-8d9b-3dc8b6cbc7c7');\n",
              "        const dataTable =\n",
              "          await google.colab.kernel.invokeFunction('convertToInteractive',\n",
              "                                                    [key], {});\n",
              "        if (!dataTable) return;\n",
              "\n",
              "        const docLinkHtml = 'Like what you see? Visit the ' +\n",
              "          '<a target=\"_blank\" href=https://colab.research.google.com/notebooks/data_table.ipynb>data table notebook</a>'\n",
              "          + ' to learn more about interactive tables.';\n",
              "        element.innerHTML = '';\n",
              "        dataTable['output_type'] = 'display_data';\n",
              "        await google.colab.output.renderOutput(dataTable, element);\n",
              "        const docLink = document.createElement('div');\n",
              "        docLink.innerHTML = docLinkHtml;\n",
              "        element.appendChild(docLink);\n",
              "      }\n",
              "    </script>\n",
              "  </div>\n",
              "\n",
              "\n",
              "    <div id=\"df-45634ed7-c99d-41b8-adc7-a8f59441747a\">\n",
              "      <button class=\"colab-df-quickchart\" onclick=\"quickchart('df-45634ed7-c99d-41b8-adc7-a8f59441747a')\"\n",
              "                title=\"Suggest charts\"\n",
              "                style=\"display:none;\">\n",
              "\n",
              "<svg xmlns=\"http://www.w3.org/2000/svg\" height=\"24px\"viewBox=\"0 0 24 24\"\n",
              "     width=\"24px\">\n",
              "    <g>\n",
              "        <path d=\"M19 3H5c-1.1 0-2 .9-2 2v14c0 1.1.9 2 2 2h14c1.1 0 2-.9 2-2V5c0-1.1-.9-2-2-2zM9 17H7v-7h2v7zm4 0h-2V7h2v10zm4 0h-2v-4h2v4z\"/>\n",
              "    </g>\n",
              "</svg>\n",
              "      </button>\n",
              "\n",
              "<style>\n",
              "  .colab-df-quickchart {\n",
              "      --bg-color: #E8F0FE;\n",
              "      --fill-color: #1967D2;\n",
              "      --hover-bg-color: #E2EBFA;\n",
              "      --hover-fill-color: #174EA6;\n",
              "      --disabled-fill-color: #AAA;\n",
              "      --disabled-bg-color: #DDD;\n",
              "  }\n",
              "\n",
              "  [theme=dark] .colab-df-quickchart {\n",
              "      --bg-color: #3B4455;\n",
              "      --fill-color: #D2E3FC;\n",
              "      --hover-bg-color: #434B5C;\n",
              "      --hover-fill-color: #FFFFFF;\n",
              "      --disabled-bg-color: #3B4455;\n",
              "      --disabled-fill-color: #666;\n",
              "  }\n",
              "\n",
              "  .colab-df-quickchart {\n",
              "    background-color: var(--bg-color);\n",
              "    border: none;\n",
              "    border-radius: 50%;\n",
              "    cursor: pointer;\n",
              "    display: none;\n",
              "    fill: var(--fill-color);\n",
              "    height: 32px;\n",
              "    padding: 0;\n",
              "    width: 32px;\n",
              "  }\n",
              "\n",
              "  .colab-df-quickchart:hover {\n",
              "    background-color: var(--hover-bg-color);\n",
              "    box-shadow: 0 1px 2px rgba(60, 64, 67, 0.3), 0 1px 3px 1px rgba(60, 64, 67, 0.15);\n",
              "    fill: var(--button-hover-fill-color);\n",
              "  }\n",
              "\n",
              "  .colab-df-quickchart-complete:disabled,\n",
              "  .colab-df-quickchart-complete:disabled:hover {\n",
              "    background-color: var(--disabled-bg-color);\n",
              "    fill: var(--disabled-fill-color);\n",
              "    box-shadow: none;\n",
              "  }\n",
              "\n",
              "  .colab-df-spinner {\n",
              "    border: 2px solid var(--fill-color);\n",
              "    border-color: transparent;\n",
              "    border-bottom-color: var(--fill-color);\n",
              "    animation:\n",
              "      spin 1s steps(1) infinite;\n",
              "  }\n",
              "\n",
              "  @keyframes spin {\n",
              "    0% {\n",
              "      border-color: transparent;\n",
              "      border-bottom-color: var(--fill-color);\n",
              "      border-left-color: var(--fill-color);\n",
              "    }\n",
              "    20% {\n",
              "      border-color: transparent;\n",
              "      border-left-color: var(--fill-color);\n",
              "      border-top-color: var(--fill-color);\n",
              "    }\n",
              "    30% {\n",
              "      border-color: transparent;\n",
              "      border-left-color: var(--fill-color);\n",
              "      border-top-color: var(--fill-color);\n",
              "      border-right-color: var(--fill-color);\n",
              "    }\n",
              "    40% {\n",
              "      border-color: transparent;\n",
              "      border-right-color: var(--fill-color);\n",
              "      border-top-color: var(--fill-color);\n",
              "    }\n",
              "    60% {\n",
              "      border-color: transparent;\n",
              "      border-right-color: var(--fill-color);\n",
              "    }\n",
              "    80% {\n",
              "      border-color: transparent;\n",
              "      border-right-color: var(--fill-color);\n",
              "      border-bottom-color: var(--fill-color);\n",
              "    }\n",
              "    90% {\n",
              "      border-color: transparent;\n",
              "      border-bottom-color: var(--fill-color);\n",
              "    }\n",
              "  }\n",
              "</style>\n",
              "\n",
              "      <script>\n",
              "        async function quickchart(key) {\n",
              "          const quickchartButtonEl =\n",
              "            document.querySelector('#' + key + ' button');\n",
              "          quickchartButtonEl.disabled = true;  // To prevent multiple clicks.\n",
              "          quickchartButtonEl.classList.add('colab-df-spinner');\n",
              "          try {\n",
              "            const charts = await google.colab.kernel.invokeFunction(\n",
              "                'suggestCharts', [key], {});\n",
              "          } catch (error) {\n",
              "            console.error('Error during call to suggestCharts:', error);\n",
              "          }\n",
              "          quickchartButtonEl.classList.remove('colab-df-spinner');\n",
              "          quickchartButtonEl.classList.add('colab-df-quickchart-complete');\n",
              "        }\n",
              "        (() => {\n",
              "          let quickchartButtonEl =\n",
              "            document.querySelector('#df-45634ed7-c99d-41b8-adc7-a8f59441747a button');\n",
              "          quickchartButtonEl.style.display =\n",
              "            google.colab.kernel.accessAllowed ? 'block' : 'none';\n",
              "        })();\n",
              "      </script>\n",
              "    </div>\n",
              "\n",
              "    </div>\n",
              "  </div>\n"
            ],
            "application/vnd.google.colaboratory.intrinsic+json": {
              "type": "dataframe",
              "variable_name": "df",
              "summary": "{\n  \"name\": \"df\",\n  \"rows\": 1259,\n  \"fields\": [\n    {\n      \"column\": \"date\",\n      \"properties\": {\n        \"dtype\": \"date\",\n        \"min\": \"2013-02-08 00:00:00\",\n        \"max\": \"2018-02-07 00:00:00\",\n        \"num_unique_values\": 1259,\n        \"samples\": [\n          \"2013-05-30 00:00:00\",\n          \"2017-03-08 00:00:00\",\n          \"2013-04-12 00:00:00\"\n        ],\n        \"semantic_type\": \"\",\n        \"description\": \"\"\n      }\n    },\n    {\n      \"column\": \"open\",\n      \"properties\": {\n        \"dtype\": \"number\",\n        \"std\": 14.859387120132022,\n        \"min\": 27.35,\n        \"max\": 95.14,\n        \"num_unique_values\": 1095,\n        \"samples\": [\n          45.91,\n          32.57,\n          32.94\n        ],\n        \"semantic_type\": \"\",\n        \"description\": \"\"\n      }\n    },\n    {\n      \"column\": \"high\",\n      \"properties\": {\n        \"dtype\": \"number\",\n        \"std\": 14.930144010366803,\n        \"min\": 27.6,\n        \"max\": 96.07,\n        \"num_unique_values\": 1110,\n        \"samples\": [\n          64.56,\n          44.98,\n          32.72\n        ],\n        \"semantic_type\": \"\",\n        \"description\": \"\"\n      }\n    },\n    {\n      \"column\": \"low\",\n      \"properties\": {\n        \"dtype\": \"number\",\n        \"std\": 14.774629614955058,\n        \"min\": 27.23,\n        \"max\": 93.72,\n        \"num_unique_values\": 1117,\n        \"samples\": [\n          71.845,\n          35.58,\n          42.55\n        ],\n        \"semantic_type\": \"\",\n        \"description\": \"\"\n      }\n    },\n    {\n      \"column\": \"close\",\n      \"properties\": {\n        \"dtype\": \"number\",\n        \"std\": 14.852116785910045,\n        \"min\": 27.37,\n        \"max\": 95.01,\n        \"num_unique_values\": 1093,\n        \"samples\": [\n          41.545,\n          32.93,\n          33.715\n        ],\n        \"semantic_type\": \"\",\n        \"description\": \"\"\n      }\n    },\n    {\n      \"column\": \"volume\",\n      \"properties\": {\n        \"dtype\": \"number\",\n        \"std\": 19589793,\n        \"min\": 7425603,\n        \"max\": 248354245,\n        \"num_unique_values\": 1259,\n        \"samples\": [\n          51130805,\n          21510907,\n          62882640\n        ],\n        \"semantic_type\": \"\",\n        \"description\": \"\"\n      }\n    },\n    {\n      \"column\": \"Name\",\n      \"properties\": {\n        \"dtype\": \"category\",\n        \"num_unique_values\": 1,\n        \"samples\": [\n          \"MSFT\"\n        ],\n        \"semantic_type\": \"\",\n        \"description\": \"\"\n      }\n    }\n  ]\n}"
            }
          },
          "metadata": {},
          "execution_count": 427
        }
      ]
    },
    {
      "cell_type": "code",
      "source": [
        "df.info()"
      ],
      "metadata": {
        "colab": {
          "base_uri": "https://localhost:8080/"
        },
        "id": "nVUesRHFhqZP",
        "outputId": "14afbcec-02d2-4af3-e05b-14d1e6667726"
      },
      "execution_count": 428,
      "outputs": [
        {
          "output_type": "stream",
          "name": "stdout",
          "text": [
            "<class 'pandas.core.frame.DataFrame'>\n",
            "DatetimeIndex: 1259 entries, 2013-02-08 to 2018-02-07\n",
            "Data columns (total 6 columns):\n",
            " #   Column  Non-Null Count  Dtype  \n",
            "---  ------  --------------  -----  \n",
            " 0   open    1259 non-null   float64\n",
            " 1   high    1259 non-null   float64\n",
            " 2   low     1259 non-null   float64\n",
            " 3   close   1259 non-null   float64\n",
            " 4   volume  1259 non-null   int64  \n",
            " 5   Name    1259 non-null   object \n",
            "dtypes: float64(4), int64(1), object(1)\n",
            "memory usage: 68.9+ KB\n"
          ]
        }
      ]
    },
    {
      "cell_type": "code",
      "source": [
        "df.index"
      ],
      "metadata": {
        "colab": {
          "base_uri": "https://localhost:8080/"
        },
        "id": "9rTwspIlh2sH",
        "outputId": "069fea4f-35a6-4bb8-9e73-f7b40ea50b6d"
      },
      "execution_count": 429,
      "outputs": [
        {
          "output_type": "execute_result",
          "data": {
            "text/plain": [
              "DatetimeIndex(['2013-02-08', '2013-02-11', '2013-02-12', '2013-02-13',\n",
              "               '2013-02-14', '2013-02-15', '2013-02-19', '2013-02-20',\n",
              "               '2013-02-21', '2013-02-22',\n",
              "               ...\n",
              "               '2018-01-25', '2018-01-26', '2018-01-29', '2018-01-30',\n",
              "               '2018-01-31', '2018-02-01', '2018-02-02', '2018-02-05',\n",
              "               '2018-02-06', '2018-02-07'],\n",
              "              dtype='datetime64[ns]', name='date', length=1259, freq=None)"
            ]
          },
          "metadata": {},
          "execution_count": 429
        }
      ]
    },
    {
      "cell_type": "markdown",
      "source": [
        "freq ='B' stands for Business Day frequency (i.e., Monday–Friday, excluding weekends)"
      ],
      "metadata": {
        "id": "qck6TR-piioG"
      }
    },
    {
      "cell_type": "code",
      "source": [
        "df = df.asfreq('B')  # Business Day frequency\n",
        "df.index"
      ],
      "metadata": {
        "colab": {
          "base_uri": "https://localhost:8080/"
        },
        "id": "nd5eio3MiB_t",
        "outputId": "799f6af8-e731-43e2-8580-ddec70788e2f"
      },
      "execution_count": 430,
      "outputs": [
        {
          "output_type": "execute_result",
          "data": {
            "text/plain": [
              "DatetimeIndex(['2013-02-08', '2013-02-11', '2013-02-12', '2013-02-13',\n",
              "               '2013-02-14', '2013-02-15', '2013-02-18', '2013-02-19',\n",
              "               '2013-02-20', '2013-02-21',\n",
              "               ...\n",
              "               '2018-01-25', '2018-01-26', '2018-01-29', '2018-01-30',\n",
              "               '2018-01-31', '2018-02-01', '2018-02-02', '2018-02-05',\n",
              "               '2018-02-06', '2018-02-07'],\n",
              "              dtype='datetime64[ns]', name='date', length=1304, freq='B')"
            ]
          },
          "metadata": {},
          "execution_count": 430
        }
      ]
    },
    {
      "cell_type": "code",
      "source": [
        "df.describe()"
      ],
      "metadata": {
        "colab": {
          "base_uri": "https://localhost:8080/",
          "height": 300
        },
        "id": "Uv7S86LdiuWB",
        "outputId": "d38fc10e-0d9d-44d1-c8fa-0b82cd02d4f3"
      },
      "execution_count": 431,
      "outputs": [
        {
          "output_type": "execute_result",
          "data": {
            "text/plain": [
              "              open         high          low        close        volume\n",
              "count  1259.000000  1259.000000  1259.000000  1259.000000  1.259000e+03\n",
              "mean     51.026394    51.436007    50.630397    51.063081  3.386946e+07\n",
              "std      14.859387    14.930144    14.774630    14.852117  1.958979e+07\n",
              "min      27.350000    27.600000    27.230000    27.370000  7.425603e+06\n",
              "25%      40.305000    40.637500    39.870000    40.310000  2.254879e+07\n",
              "50%      47.440000    47.810000    47.005000    47.520000  2.938758e+07\n",
              "75%      59.955000    60.435000    59.275000    59.730000  3.842024e+07\n",
              "max      95.140000    96.070000    93.720000    95.010000  2.483542e+08"
            ],
            "text/html": [
              "\n",
              "  <div id=\"df-d6a4bb3e-e86e-48f8-a8e5-cec6b46440f1\" class=\"colab-df-container\">\n",
              "    <div>\n",
              "<style scoped>\n",
              "    .dataframe tbody tr th:only-of-type {\n",
              "        vertical-align: middle;\n",
              "    }\n",
              "\n",
              "    .dataframe tbody tr th {\n",
              "        vertical-align: top;\n",
              "    }\n",
              "\n",
              "    .dataframe thead th {\n",
              "        text-align: right;\n",
              "    }\n",
              "</style>\n",
              "<table border=\"1\" class=\"dataframe\">\n",
              "  <thead>\n",
              "    <tr style=\"text-align: right;\">\n",
              "      <th></th>\n",
              "      <th>open</th>\n",
              "      <th>high</th>\n",
              "      <th>low</th>\n",
              "      <th>close</th>\n",
              "      <th>volume</th>\n",
              "    </tr>\n",
              "  </thead>\n",
              "  <tbody>\n",
              "    <tr>\n",
              "      <th>count</th>\n",
              "      <td>1259.000000</td>\n",
              "      <td>1259.000000</td>\n",
              "      <td>1259.000000</td>\n",
              "      <td>1259.000000</td>\n",
              "      <td>1.259000e+03</td>\n",
              "    </tr>\n",
              "    <tr>\n",
              "      <th>mean</th>\n",
              "      <td>51.026394</td>\n",
              "      <td>51.436007</td>\n",
              "      <td>50.630397</td>\n",
              "      <td>51.063081</td>\n",
              "      <td>3.386946e+07</td>\n",
              "    </tr>\n",
              "    <tr>\n",
              "      <th>std</th>\n",
              "      <td>14.859387</td>\n",
              "      <td>14.930144</td>\n",
              "      <td>14.774630</td>\n",
              "      <td>14.852117</td>\n",
              "      <td>1.958979e+07</td>\n",
              "    </tr>\n",
              "    <tr>\n",
              "      <th>min</th>\n",
              "      <td>27.350000</td>\n",
              "      <td>27.600000</td>\n",
              "      <td>27.230000</td>\n",
              "      <td>27.370000</td>\n",
              "      <td>7.425603e+06</td>\n",
              "    </tr>\n",
              "    <tr>\n",
              "      <th>25%</th>\n",
              "      <td>40.305000</td>\n",
              "      <td>40.637500</td>\n",
              "      <td>39.870000</td>\n",
              "      <td>40.310000</td>\n",
              "      <td>2.254879e+07</td>\n",
              "    </tr>\n",
              "    <tr>\n",
              "      <th>50%</th>\n",
              "      <td>47.440000</td>\n",
              "      <td>47.810000</td>\n",
              "      <td>47.005000</td>\n",
              "      <td>47.520000</td>\n",
              "      <td>2.938758e+07</td>\n",
              "    </tr>\n",
              "    <tr>\n",
              "      <th>75%</th>\n",
              "      <td>59.955000</td>\n",
              "      <td>60.435000</td>\n",
              "      <td>59.275000</td>\n",
              "      <td>59.730000</td>\n",
              "      <td>3.842024e+07</td>\n",
              "    </tr>\n",
              "    <tr>\n",
              "      <th>max</th>\n",
              "      <td>95.140000</td>\n",
              "      <td>96.070000</td>\n",
              "      <td>93.720000</td>\n",
              "      <td>95.010000</td>\n",
              "      <td>2.483542e+08</td>\n",
              "    </tr>\n",
              "  </tbody>\n",
              "</table>\n",
              "</div>\n",
              "    <div class=\"colab-df-buttons\">\n",
              "\n",
              "  <div class=\"colab-df-container\">\n",
              "    <button class=\"colab-df-convert\" onclick=\"convertToInteractive('df-d6a4bb3e-e86e-48f8-a8e5-cec6b46440f1')\"\n",
              "            title=\"Convert this dataframe to an interactive table.\"\n",
              "            style=\"display:none;\">\n",
              "\n",
              "  <svg xmlns=\"http://www.w3.org/2000/svg\" height=\"24px\" viewBox=\"0 -960 960 960\">\n",
              "    <path d=\"M120-120v-720h720v720H120Zm60-500h600v-160H180v160Zm220 220h160v-160H400v160Zm0 220h160v-160H400v160ZM180-400h160v-160H180v160Zm440 0h160v-160H620v160ZM180-180h160v-160H180v160Zm440 0h160v-160H620v160Z\"/>\n",
              "  </svg>\n",
              "    </button>\n",
              "\n",
              "  <style>\n",
              "    .colab-df-container {\n",
              "      display:flex;\n",
              "      gap: 12px;\n",
              "    }\n",
              "\n",
              "    .colab-df-convert {\n",
              "      background-color: #E8F0FE;\n",
              "      border: none;\n",
              "      border-radius: 50%;\n",
              "      cursor: pointer;\n",
              "      display: none;\n",
              "      fill: #1967D2;\n",
              "      height: 32px;\n",
              "      padding: 0 0 0 0;\n",
              "      width: 32px;\n",
              "    }\n",
              "\n",
              "    .colab-df-convert:hover {\n",
              "      background-color: #E2EBFA;\n",
              "      box-shadow: 0px 1px 2px rgba(60, 64, 67, 0.3), 0px 1px 3px 1px rgba(60, 64, 67, 0.15);\n",
              "      fill: #174EA6;\n",
              "    }\n",
              "\n",
              "    .colab-df-buttons div {\n",
              "      margin-bottom: 4px;\n",
              "    }\n",
              "\n",
              "    [theme=dark] .colab-df-convert {\n",
              "      background-color: #3B4455;\n",
              "      fill: #D2E3FC;\n",
              "    }\n",
              "\n",
              "    [theme=dark] .colab-df-convert:hover {\n",
              "      background-color: #434B5C;\n",
              "      box-shadow: 0px 1px 3px 1px rgba(0, 0, 0, 0.15);\n",
              "      filter: drop-shadow(0px 1px 2px rgba(0, 0, 0, 0.3));\n",
              "      fill: #FFFFFF;\n",
              "    }\n",
              "  </style>\n",
              "\n",
              "    <script>\n",
              "      const buttonEl =\n",
              "        document.querySelector('#df-d6a4bb3e-e86e-48f8-a8e5-cec6b46440f1 button.colab-df-convert');\n",
              "      buttonEl.style.display =\n",
              "        google.colab.kernel.accessAllowed ? 'block' : 'none';\n",
              "\n",
              "      async function convertToInteractive(key) {\n",
              "        const element = document.querySelector('#df-d6a4bb3e-e86e-48f8-a8e5-cec6b46440f1');\n",
              "        const dataTable =\n",
              "          await google.colab.kernel.invokeFunction('convertToInteractive',\n",
              "                                                    [key], {});\n",
              "        if (!dataTable) return;\n",
              "\n",
              "        const docLinkHtml = 'Like what you see? Visit the ' +\n",
              "          '<a target=\"_blank\" href=https://colab.research.google.com/notebooks/data_table.ipynb>data table notebook</a>'\n",
              "          + ' to learn more about interactive tables.';\n",
              "        element.innerHTML = '';\n",
              "        dataTable['output_type'] = 'display_data';\n",
              "        await google.colab.output.renderOutput(dataTable, element);\n",
              "        const docLink = document.createElement('div');\n",
              "        docLink.innerHTML = docLinkHtml;\n",
              "        element.appendChild(docLink);\n",
              "      }\n",
              "    </script>\n",
              "  </div>\n",
              "\n",
              "\n",
              "    <div id=\"df-bc05a803-941f-445c-a607-05dc6f4e4b14\">\n",
              "      <button class=\"colab-df-quickchart\" onclick=\"quickchart('df-bc05a803-941f-445c-a607-05dc6f4e4b14')\"\n",
              "                title=\"Suggest charts\"\n",
              "                style=\"display:none;\">\n",
              "\n",
              "<svg xmlns=\"http://www.w3.org/2000/svg\" height=\"24px\"viewBox=\"0 0 24 24\"\n",
              "     width=\"24px\">\n",
              "    <g>\n",
              "        <path d=\"M19 3H5c-1.1 0-2 .9-2 2v14c0 1.1.9 2 2 2h14c1.1 0 2-.9 2-2V5c0-1.1-.9-2-2-2zM9 17H7v-7h2v7zm4 0h-2V7h2v10zm4 0h-2v-4h2v4z\"/>\n",
              "    </g>\n",
              "</svg>\n",
              "      </button>\n",
              "\n",
              "<style>\n",
              "  .colab-df-quickchart {\n",
              "      --bg-color: #E8F0FE;\n",
              "      --fill-color: #1967D2;\n",
              "      --hover-bg-color: #E2EBFA;\n",
              "      --hover-fill-color: #174EA6;\n",
              "      --disabled-fill-color: #AAA;\n",
              "      --disabled-bg-color: #DDD;\n",
              "  }\n",
              "\n",
              "  [theme=dark] .colab-df-quickchart {\n",
              "      --bg-color: #3B4455;\n",
              "      --fill-color: #D2E3FC;\n",
              "      --hover-bg-color: #434B5C;\n",
              "      --hover-fill-color: #FFFFFF;\n",
              "      --disabled-bg-color: #3B4455;\n",
              "      --disabled-fill-color: #666;\n",
              "  }\n",
              "\n",
              "  .colab-df-quickchart {\n",
              "    background-color: var(--bg-color);\n",
              "    border: none;\n",
              "    border-radius: 50%;\n",
              "    cursor: pointer;\n",
              "    display: none;\n",
              "    fill: var(--fill-color);\n",
              "    height: 32px;\n",
              "    padding: 0;\n",
              "    width: 32px;\n",
              "  }\n",
              "\n",
              "  .colab-df-quickchart:hover {\n",
              "    background-color: var(--hover-bg-color);\n",
              "    box-shadow: 0 1px 2px rgba(60, 64, 67, 0.3), 0 1px 3px 1px rgba(60, 64, 67, 0.15);\n",
              "    fill: var(--button-hover-fill-color);\n",
              "  }\n",
              "\n",
              "  .colab-df-quickchart-complete:disabled,\n",
              "  .colab-df-quickchart-complete:disabled:hover {\n",
              "    background-color: var(--disabled-bg-color);\n",
              "    fill: var(--disabled-fill-color);\n",
              "    box-shadow: none;\n",
              "  }\n",
              "\n",
              "  .colab-df-spinner {\n",
              "    border: 2px solid var(--fill-color);\n",
              "    border-color: transparent;\n",
              "    border-bottom-color: var(--fill-color);\n",
              "    animation:\n",
              "      spin 1s steps(1) infinite;\n",
              "  }\n",
              "\n",
              "  @keyframes spin {\n",
              "    0% {\n",
              "      border-color: transparent;\n",
              "      border-bottom-color: var(--fill-color);\n",
              "      border-left-color: var(--fill-color);\n",
              "    }\n",
              "    20% {\n",
              "      border-color: transparent;\n",
              "      border-left-color: var(--fill-color);\n",
              "      border-top-color: var(--fill-color);\n",
              "    }\n",
              "    30% {\n",
              "      border-color: transparent;\n",
              "      border-left-color: var(--fill-color);\n",
              "      border-top-color: var(--fill-color);\n",
              "      border-right-color: var(--fill-color);\n",
              "    }\n",
              "    40% {\n",
              "      border-color: transparent;\n",
              "      border-right-color: var(--fill-color);\n",
              "      border-top-color: var(--fill-color);\n",
              "    }\n",
              "    60% {\n",
              "      border-color: transparent;\n",
              "      border-right-color: var(--fill-color);\n",
              "    }\n",
              "    80% {\n",
              "      border-color: transparent;\n",
              "      border-right-color: var(--fill-color);\n",
              "      border-bottom-color: var(--fill-color);\n",
              "    }\n",
              "    90% {\n",
              "      border-color: transparent;\n",
              "      border-bottom-color: var(--fill-color);\n",
              "    }\n",
              "  }\n",
              "</style>\n",
              "\n",
              "      <script>\n",
              "        async function quickchart(key) {\n",
              "          const quickchartButtonEl =\n",
              "            document.querySelector('#' + key + ' button');\n",
              "          quickchartButtonEl.disabled = true;  // To prevent multiple clicks.\n",
              "          quickchartButtonEl.classList.add('colab-df-spinner');\n",
              "          try {\n",
              "            const charts = await google.colab.kernel.invokeFunction(\n",
              "                'suggestCharts', [key], {});\n",
              "          } catch (error) {\n",
              "            console.error('Error during call to suggestCharts:', error);\n",
              "          }\n",
              "          quickchartButtonEl.classList.remove('colab-df-spinner');\n",
              "          quickchartButtonEl.classList.add('colab-df-quickchart-complete');\n",
              "        }\n",
              "        (() => {\n",
              "          let quickchartButtonEl =\n",
              "            document.querySelector('#df-bc05a803-941f-445c-a607-05dc6f4e4b14 button');\n",
              "          quickchartButtonEl.style.display =\n",
              "            google.colab.kernel.accessAllowed ? 'block' : 'none';\n",
              "        })();\n",
              "      </script>\n",
              "    </div>\n",
              "\n",
              "    </div>\n",
              "  </div>\n"
            ],
            "application/vnd.google.colaboratory.intrinsic+json": {
              "type": "dataframe",
              "summary": "{\n  \"name\": \"df\",\n  \"rows\": 8,\n  \"fields\": [\n    {\n      \"column\": \"open\",\n      \"properties\": {\n        \"dtype\": \"number\",\n        \"std\": 428.80922189865333,\n        \"min\": 14.859387120132022,\n        \"max\": 1259.0,\n        \"num_unique_values\": 8,\n        \"samples\": [\n          51.026394281175534,\n          47.44,\n          1259.0\n        ],\n        \"semantic_type\": \"\",\n        \"description\": \"\"\n      }\n    },\n    {\n      \"column\": \"high\",\n      \"properties\": {\n        \"dtype\": \"number\",\n        \"std\": 428.67942846460437,\n        \"min\": 14.930144010366803,\n        \"max\": 1259.0,\n        \"num_unique_values\": 8,\n        \"samples\": [\n          51.436007069102466,\n          47.81,\n          1259.0\n        ],\n        \"semantic_type\": \"\",\n        \"description\": \"\"\n      }\n    },\n    {\n      \"column\": \"low\",\n      \"properties\": {\n        \"dtype\": \"number\",\n        \"std\": 428.96706824802675,\n        \"min\": 14.774629614955058,\n        \"max\": 1259.0,\n        \"num_unique_values\": 8,\n        \"samples\": [\n          50.630396743447186,\n          47.005,\n          1259.0\n        ],\n        \"semantic_type\": \"\",\n        \"description\": \"\"\n      }\n    },\n    {\n      \"column\": \"close\",\n      \"properties\": {\n        \"dtype\": \"number\",\n        \"std\": 428.81737244742294,\n        \"min\": 14.852116785910045,\n        \"max\": 1259.0,\n        \"num_unique_values\": 8,\n        \"samples\": [\n          51.06308061953931,\n          47.52,\n          1259.0\n        ],\n        \"semantic_type\": \"\",\n        \"description\": \"\"\n      }\n    },\n    {\n      \"column\": \"volume\",\n      \"properties\": {\n        \"dtype\": \"number\",\n        \"std\": 81200233.92888479,\n        \"min\": 1259.0,\n        \"max\": 248354245.0,\n        \"num_unique_values\": 8,\n        \"samples\": [\n          33869462.74583002,\n          29387581.0,\n          1259.0\n        ],\n        \"semantic_type\": \"\",\n        \"description\": \"\"\n      }\n    }\n  ]\n}"
            }
          },
          "metadata": {},
          "execution_count": 431
        }
      ]
    },
    {
      "cell_type": "code",
      "source": [
        "df.isnull().sum()"
      ],
      "metadata": {
        "colab": {
          "base_uri": "https://localhost:8080/",
          "height": 272
        },
        "id": "kOLZ6Bo5i5LP",
        "outputId": "fcbbc82f-30f1-4242-ea85-efa71d357a8b"
      },
      "execution_count": 432,
      "outputs": [
        {
          "output_type": "execute_result",
          "data": {
            "text/plain": [
              "open      45\n",
              "high      45\n",
              "low       45\n",
              "close     45\n",
              "volume    45\n",
              "Name      45\n",
              "dtype: int64"
            ],
            "text/html": [
              "<div>\n",
              "<style scoped>\n",
              "    .dataframe tbody tr th:only-of-type {\n",
              "        vertical-align: middle;\n",
              "    }\n",
              "\n",
              "    .dataframe tbody tr th {\n",
              "        vertical-align: top;\n",
              "    }\n",
              "\n",
              "    .dataframe thead th {\n",
              "        text-align: right;\n",
              "    }\n",
              "</style>\n",
              "<table border=\"1\" class=\"dataframe\">\n",
              "  <thead>\n",
              "    <tr style=\"text-align: right;\">\n",
              "      <th></th>\n",
              "      <th>0</th>\n",
              "    </tr>\n",
              "  </thead>\n",
              "  <tbody>\n",
              "    <tr>\n",
              "      <th>open</th>\n",
              "      <td>45</td>\n",
              "    </tr>\n",
              "    <tr>\n",
              "      <th>high</th>\n",
              "      <td>45</td>\n",
              "    </tr>\n",
              "    <tr>\n",
              "      <th>low</th>\n",
              "      <td>45</td>\n",
              "    </tr>\n",
              "    <tr>\n",
              "      <th>close</th>\n",
              "      <td>45</td>\n",
              "    </tr>\n",
              "    <tr>\n",
              "      <th>volume</th>\n",
              "      <td>45</td>\n",
              "    </tr>\n",
              "    <tr>\n",
              "      <th>Name</th>\n",
              "      <td>45</td>\n",
              "    </tr>\n",
              "  </tbody>\n",
              "</table>\n",
              "</div><br><label><b>dtype:</b> int64</label>"
            ]
          },
          "metadata": {},
          "execution_count": 432
        }
      ]
    },
    {
      "cell_type": "code",
      "source": [
        "df[df.isnull().any(axis=1)].index[0]\n"
      ],
      "metadata": {
        "colab": {
          "base_uri": "https://localhost:8080/"
        },
        "id": "BkZa-ZgTi9_C",
        "outputId": "c2003b49-043d-444e-c771-be4b8fc83e25"
      },
      "execution_count": 433,
      "outputs": [
        {
          "output_type": "execute_result",
          "data": {
            "text/plain": [
              "Timestamp('2013-02-18 00:00:00')"
            ]
          },
          "metadata": {},
          "execution_count": 433
        }
      ]
    },
    {
      "cell_type": "code",
      "source": [
        "pd.set_option('display.max_rows', 100)\n",
        "#df[:100]"
      ],
      "metadata": {
        "id": "PQ8vjD2yjYp_"
      },
      "execution_count": 434,
      "outputs": []
    },
    {
      "cell_type": "markdown",
      "source": [
        "### Handling Public Holidays with `freq='B'`\n",
        "\n",
        "When setting the datetime index using `freq='B'`, pandas generates a date range with **Business Day frequency** — meaning it includes **only weekdays (Monday to Friday)** and **excludes weekends**.\n",
        "\n",
        "However, this frequency does **not automatically account for public holidays**. As a result:\n",
        "\n",
        "- Dates like public holidays (e.g., 2013-02-18) will still be included in the index.\n",
        "- If there is **no data available for those dates**, they will appear as `NaN` (missing values).\n",
        "\n",
        "To maintain data consistency, I dropped these rows with missing values caused by public holidays.\n"
      ],
      "metadata": {
        "id": "B1SokuBEsoKu"
      }
    },
    {
      "cell_type": "code",
      "source": [
        "df = df.dropna()\n",
        "df.isnull().sum()"
      ],
      "metadata": {
        "colab": {
          "base_uri": "https://localhost:8080/",
          "height": 272
        },
        "id": "U583EJNQj9kX",
        "outputId": "f2ad7053-df6e-49c0-d6d1-50739d101d0e"
      },
      "execution_count": 435,
      "outputs": [
        {
          "output_type": "execute_result",
          "data": {
            "text/plain": [
              "open      0\n",
              "high      0\n",
              "low       0\n",
              "close     0\n",
              "volume    0\n",
              "Name      0\n",
              "dtype: int64"
            ],
            "text/html": [
              "<div>\n",
              "<style scoped>\n",
              "    .dataframe tbody tr th:only-of-type {\n",
              "        vertical-align: middle;\n",
              "    }\n",
              "\n",
              "    .dataframe tbody tr th {\n",
              "        vertical-align: top;\n",
              "    }\n",
              "\n",
              "    .dataframe thead th {\n",
              "        text-align: right;\n",
              "    }\n",
              "</style>\n",
              "<table border=\"1\" class=\"dataframe\">\n",
              "  <thead>\n",
              "    <tr style=\"text-align: right;\">\n",
              "      <th></th>\n",
              "      <th>0</th>\n",
              "    </tr>\n",
              "  </thead>\n",
              "  <tbody>\n",
              "    <tr>\n",
              "      <th>open</th>\n",
              "      <td>0</td>\n",
              "    </tr>\n",
              "    <tr>\n",
              "      <th>high</th>\n",
              "      <td>0</td>\n",
              "    </tr>\n",
              "    <tr>\n",
              "      <th>low</th>\n",
              "      <td>0</td>\n",
              "    </tr>\n",
              "    <tr>\n",
              "      <th>close</th>\n",
              "      <td>0</td>\n",
              "    </tr>\n",
              "    <tr>\n",
              "      <th>volume</th>\n",
              "      <td>0</td>\n",
              "    </tr>\n",
              "    <tr>\n",
              "      <th>Name</th>\n",
              "      <td>0</td>\n",
              "    </tr>\n",
              "  </tbody>\n",
              "</table>\n",
              "</div><br><label><b>dtype:</b> int64</label>"
            ]
          },
          "metadata": {},
          "execution_count": 435
        }
      ]
    },
    {
      "cell_type": "code",
      "source": [
        "df.columns"
      ],
      "metadata": {
        "colab": {
          "base_uri": "https://localhost:8080/"
        },
        "id": "8QZmj1i_lZIP",
        "outputId": "f0aabd8b-8b0b-4835-a8e1-a6320b68fe1e"
      },
      "execution_count": 436,
      "outputs": [
        {
          "output_type": "execute_result",
          "data": {
            "text/plain": [
              "Index(['open', 'high', 'low', 'close', 'volume', 'Name'], dtype='object')"
            ]
          },
          "metadata": {},
          "execution_count": 436
        }
      ]
    },
    {
      "cell_type": "markdown",
      "source": [
        "# Initial Data Visualization"
      ],
      "metadata": {
        "id": "0WcYq8OBo0gP"
      }
    },
    {
      "cell_type": "code",
      "source": [
        "# Plot 1 - Open and Close Prices of time\n",
        "plt.figure(figsize=(8,6))\n",
        "plt.plot(df['open'], label='Open')\n",
        "plt.plot(df['close'], label='Close')\n",
        "plt.title('Open-Close price over time')\n",
        "plt.xlabel(\"Date\")\n",
        "plt.ylabel(\"Price\")\n",
        "plt.legend()\n",
        "plt.show()"
      ],
      "metadata": {
        "colab": {
          "base_uri": "https://localhost:8080/",
          "height": 564
        },
        "id": "Yzvm3zUyk_wy",
        "outputId": "d56b57b1-9376-4a45-9d34-c3249ff81c80"
      },
      "execution_count": 437,
      "outputs": [
        {
          "output_type": "display_data",
          "data": {
            "text/plain": [
              "<Figure size 800x600 with 1 Axes>"
            ],
            "image/png": "[encoded data removed]"
          },
          "metadata": {}
        }
      ]
    },
    {
      "cell_type": "code",
      "source": [
        "# Plot 2 - Trading Volume (check for outliers)\n",
        "plt.figure(figsize=(8,6))\n",
        "plt.plot(df['volume'], label='Volume')\n",
        "plt.title('Stock volume over time')\n",
        "plt.xlabel(\"Date\")\n",
        "plt.ylabel(\"Volume\")\n",
        "plt.legend()\n",
        "plt.show()"
      ],
      "metadata": {
        "colab": {
          "base_uri": "https://localhost:8080/",
          "height": 564
        },
        "id": "asUiV6fQl57n",
        "outputId": "13cce1d8-a6c5-42db-e2ba-24e7ba96b88c"
      },
      "execution_count": 438,
      "outputs": [
        {
          "output_type": "display_data",
          "data": {
            "text/plain": [
              "<Figure size 800x600 with 1 Axes>"
            ],
            "image/png": "[encoded data removed]"
          },
          "metadata": {}
        }
      ]
    },
    {
      "cell_type": "code",
      "source": [
        "# Plot 3 - Check for correlation between features\n",
        "plt.figure(figsize=(4,4))\n",
        "sns.heatmap(df.iloc[:, :-1].corr(), annot=True, cmap=\"coolwarm\" )\n",
        "plt.title(\"Feature Correlation Heatmap\")\n",
        "plt.show()"
      ],
      "metadata": {
        "colab": {
          "base_uri": "https://localhost:8080/",
          "height": 391
        },
        "id": "A7zTZFKEpB1M",
        "outputId": "fa11dc24-fc64-4da7-efb0-5a4906f42103"
      },
      "execution_count": 439,
      "outputs": [
        {
          "output_type": "display_data",
          "data": {
            "text/plain": [
              "<Figure size 400x400 with 2 Axes>"
            ],
            "image/png": "[encoded data removed]"
          },
          "metadata": {}
        }
      ]
    },
    {
      "cell_type": "markdown",
      "source": [
        "# Prepare for the LSTM Model (Sequential)"
      ],
      "metadata": {
        "id": "1DI5RucItm-0"
      }
    },
    {
      "cell_type": "markdown",
      "source": [
        "### Preprocessing Stages"
      ],
      "metadata": {
        "id": "MhD5jRSVyHwu"
      }
    },
    {
      "cell_type": "code",
      "source": [
        "\"\"\"\n",
        "df[[\"close\"]]              # Returns DataFrame with 'close' column\n",
        "df.filter([\"close\"])       # Same result\n",
        "df.filter(like=\"clos\")     # Will match 'close' if exists\n",
        "df.filter(regex=\"cl.*\")    # Regex-based column selection\n",
        "\"\"\"\n",
        "\n",
        "stock_close = df[[\"close\"]]   # This is a Pandas dataframe. with one brackt it will be converted to a series\n",
        "dataset = stock_close.values  #convert to numpy array"
      ],
      "metadata": {
        "id": "LjYnP9ypti28"
      },
      "execution_count": 440,
      "outputs": []
    },
    {
      "cell_type": "code",
      "source": [
        "scaler = StandardScaler()\n",
        "scaled_data = scaler.fit_transform(dataset)\n",
        "scaled_data.dtype"
      ],
      "metadata": {
        "colab": {
          "base_uri": "https://localhost:8080/"
        },
        "id": "LZwRqn4HqWvt",
        "outputId": "ad6689d0-db29-41cc-d605-03913208f08a"
      },
      "execution_count": 441,
      "outputs": [
        {
          "output_type": "execute_result",
          "data": {
            "text/plain": [
              "dtype('float64')"
            ]
          },
          "metadata": {},
          "execution_count": 441
        }
      ]
    },
    {
      "cell_type": "markdown",
      "source": [
        "### # Create a sliding window for our stock (60 days)"
      ],
      "metadata": {
        "id": "yeBVBtQTy9Vj"
      }
    },
    {
      "cell_type": "code",
      "source": [
        "# When our dataset is in DataFrame format.\n",
        "''''\n",
        "def create_sliding_window_DataFrame(data, window_size, prediction_horizon, stride, target_col):\n",
        "    X, y = [], []\n",
        "    for i in range(0, len(data) - window_size - prediction_horizon + 1, stride):\n",
        "        X.append(data.iloc[i:i + window_size, :].values)\n",
        "        y.append(data[target_col].iloc[i + window_size:i + window_size + prediction_horizon].values)\n",
        "    return np.array(X), np.array(y)\n",
        "    '''\n"
      ],
      "metadata": {
        "id": "o6rEZ3DYTtpt",
        "colab": {
          "base_uri": "https://localhost:8080/",
          "height": 70
        },
        "outputId": "eb216df8-eb9d-4c64-e177-ae14f3e2f377"
      },
      "execution_count": 442,
      "outputs": [
        {
          "output_type": "execute_result",
          "data": {
            "text/plain": [
              "\"'\\ndef create_sliding_window_DataFrame(data, window_size, prediction_horizon, stride, target_col):\\n    X, y = [], []\\n    for i in range(0, len(data) - window_size - prediction_horizon + 1, stride):\\n        X.append(data.iloc[i:i + window_size, :].values)\\n        y.append(data[target_col].iloc[i + window_size:i + window_size + prediction_horizon].values)\\n    return np.array(X), np.array(y)\\n    \""
            ],
            "application/vnd.google.colaboratory.intrinsic+json": {
              "type": "string"
            }
          },
          "metadata": {},
          "execution_count": 442
        }
      ]
    },
    {
      "cell_type": "markdown",
      "source": [
        "In the code below, `X` and `y` are `Python lists` (we used .append() in a loop). But to use them in machine learning models (especially LSTM in Keras), they must be `NumPy arrays`."
      ],
      "metadata": {
        "id": "WGqnkme8WahK"
      }
    },
    {
      "cell_type": "code",
      "source": [
        "def create_sliding_window_np(data, window_size, prediction_horizon, stride, target_col_index):\n",
        "    X, y = [], []\n",
        "    for i in range(0, len(data) - window_size - prediction_horizon + 1, stride):\n",
        "        X.append(data[i:i + window_size, :])  # all features in window\n",
        "        y.append(data[i + window_size:i + window_size + prediction_horizon, target_col_index])  # target column values\n",
        "    return np.array(X), np.array(y)\n"
      ],
      "metadata": {
        "id": "n2hIjV-YUbD8"
      },
      "execution_count": 443,
      "outputs": []
    },
    {
      "cell_type": "code",
      "source": [
        "window_size = 24         # how many past time steps (days) you use as input to the model.\n",
        "prediction_horizon = 24   # how many future time steps (days) you want to predict.\n",
        "stride = 1\n",
        "target_col_index = 0\n",
        "\n",
        "X, y = create_sliding_window_np(scaled_data, window_size, prediction_horizon, stride, target_col_index)"
      ],
      "metadata": {
        "id": "cAEDLxJaSa5l"
      },
      "execution_count": 444,
      "outputs": []
    },
    {
      "cell_type": "markdown",
      "source": [
        "# Spliting Date into Training / Validation /Test"
      ],
      "metadata": {
        "id": "TOTAO8Hfkzy1"
      }
    },
    {
      "cell_type": "code",
      "source": [
        "train_proportion = 0.8\n",
        "val_proportion = 0.10\n",
        "test_proportion = 0.10\n",
        "\n",
        "total_size = len(X)\n",
        "train_end = int(train_proportion * total_size)\n",
        "val_end = int((train_proportion + val_proportion) * total_size)\n",
        "\n",
        "X_train = X[:train_end]\n",
        "X_val = X[train_end:val_end]\n",
        "X_test = X[val_end:]\n",
        "y_train = y[:train_end]\n",
        "y_val = y[train_end:val_end]\n",
        "y_test = y[val_end:]\n",
        "\n",
        "print(f\"X_train shape: {X_train.shape}\")\n",
        "print(f\"X_val shape: {X_val.shape}\")\n",
        "print(f\"X_test shape: {X_test.shape}\")\n",
        "print(f\"y_train shape: {y_train.shape}\")\n",
        "print(f\"y_val shape: {y_val.shape}\")\n",
        "print(f\"y_test shape: {y_test.shape}\")"
      ],
      "metadata": {
        "colab": {
          "base_uri": "https://localhost:8080/"
        },
        "id": "S3vuQncFRDjn",
        "outputId": "7735567a-d1eb-416d-bd96-0702437dff5e"
      },
      "execution_count": 445,
      "outputs": [
        {
          "output_type": "stream",
          "name": "stdout",
          "text": [
            "X_train shape: (969, 24, 1)\n",
            "X_val shape: (121, 24, 1)\n",
            "X_test shape: (122, 24, 1)\n",
            "y_train shape: (969, 24)\n",
            "y_val shape: (121, 24)\n",
            "y_test shape: (122, 24)\n"
          ]
        }
      ]
    },
    {
      "cell_type": "code",
      "source": [
        "print(type(X_train))"
      ],
      "metadata": {
        "colab": {
          "base_uri": "https://localhost:8080/"
        },
        "id": "QdYkk3LuWEih",
        "outputId": "7b8f1855-5597-4882-ca76-8b5db06a4d52"
      },
      "execution_count": 446,
      "outputs": [
        {
          "output_type": "stream",
          "name": "stdout",
          "text": [
            "<class 'numpy.ndarray'>\n"
          ]
        }
      ]
    },
    {
      "cell_type": "code",
      "source": [
        "print(X_train.shape)"
      ],
      "metadata": {
        "colab": {
          "base_uri": "https://localhost:8080/"
        },
        "id": "TxT3wLsbWx-R",
        "outputId": "80099e00-74de-4994-f8d8-2aafbf7db467"
      },
      "execution_count": 447,
      "outputs": [
        {
          "output_type": "stream",
          "name": "stdout",
          "text": [
            "(969, 24, 1)\n"
          ]
        }
      ]
    },
    {
      "cell_type": "markdown",
      "source": [
        "`LSTM models` expect `3D input` in the format:\n",
        "\n",
        "- [samples, time_steps, features]\n",
        " - X_train.shape[0]  ➜ number of samples\n",
        " - X_train.shape[1]  ➜ number of time steps (e.g. a 60-day window`)\n",
        " - 1                 ➜ number of features (e.g. each window is 1 feature just \"close\" price)\n",
        "\n",
        "`In our case, splited data are already in 3D shape. Therefore we do not need to use the reshape function below.`\n",
        "\n",
        "X_train = np.reshape(X_train, (X_train.shape[0], X_train.shape[1], 1))\n"
      ],
      "metadata": {
        "id": "bHhbrgqh2Vxt"
      }
    },
    {
      "cell_type": "markdown",
      "source": [
        "# Build the Model"
      ],
      "metadata": {
        "id": "j6gl-evY5MRm"
      }
    },
    {
      "cell_type": "code",
      "source": [
        "model = keras.models.Sequential()"
      ],
      "metadata": {
        "id": "KYbohj_j5NgN"
      },
      "execution_count": 448,
      "outputs": []
    },
    {
      "cell_type": "code",
      "source": [
        "# First Layer\n",
        "model.add(keras.layers.LSTM(64, return_sequences=True, input_shape=(X_train.shape[1],1)))\n",
        "\n",
        "# Second Layer\n",
        "model.add(keras.layers.LSTM(64, return_sequences=False))\n",
        "\n",
        "# 3rd Layer (Dense)\n",
        "model.add(keras.layers.Dense(128, activation=\"relu\"))\n",
        "\n",
        "# 4th Layer (Dropout)\n",
        "model.add(keras.layers.Dropout(0.5))\n",
        "\n",
        "# Final Output Layer\n",
        "model.add(keras.layers.Dense(1))\n",
        "\n",
        "model.summary()\n"
      ],
      "metadata": {
        "colab": {
          "base_uri": "https://localhost:8080/",
          "height": 361
        },
        "id": "VsRVd4FC8jzS",
        "outputId": "4bebb003-9812-44f5-f126-16c957ba138f"
      },
      "execution_count": 449,
      "outputs": [
        {
          "output_type": "stream",
          "name": "stderr",
          "text": [
            "/usr/local/lib/python3.11/dist-packages/keras/src/layers/rnn/rnn.py:199: UserWarning: Do not pass an `input_shape`/`input_dim` argument to a layer. When using Sequential models, prefer using an `Input(shape)` object as the first layer in the model instead.\n",
            "  super().__init__(**kwargs)\n"
          ]
        },
        {
          "output_type": "display_data",
          "data": {
            "text/plain": [
              "\u001b[1mModel: \"sequential_11\"\u001b[0m\n"
            ],
            "text/html": [
              "<pre style=\"white-space:pre;overflow-x:auto;line-height:normal;font-family:Menlo,'DejaVu Sans Mono',consolas,'Courier New',monospace\"><span style=\"font-weight: bold\">Model: \"sequential_11\"</span>\n",
              "</pre>\n"
            ]
          },
          "metadata": {}
        },
        {
          "output_type": "display_data",
          "data": {
            "text/plain": [
              "┏━━━━━━━━━━━━━━━━━━━━━━━━━━━━━━━━━┳━━━━━━━━━━━━━━━━━━━━━━━━┳━━━━━━━━━━━━━━━┓\n",
              "┃\u001b[1m \u001b[0m\u001b[1mLayer (type)                   \u001b[0m\u001b[1m \u001b[0m┃\u001b[1m \u001b[0m\u001b[1mOutput Shape          \u001b[0m\u001b[1m \u001b[0m┃\u001b[1m \u001b[0m\u001b[1m      Param #\u001b[0m\u001b[1m \u001b[0m┃\n",
              "┡━━━━━━━━━━━━━━━━━━━━━━━━━━━━━━━━━╇━━━━━━━━━━━━━━━━━━━━━━━━╇━━━━━━━━━━━━━━━┩\n",
              "│ lstm_21 (\u001b[38;5;33mLSTM\u001b[0m)                  │ (\u001b[38;5;45mNone\u001b[0m, \u001b[38;5;34m24\u001b[0m, \u001b[38;5;34m64\u001b[0m)         │        \u001b[38;5;34m16,896\u001b[0m │\n",
              "├─────────────────────────────────┼────────────────────────┼───────────────┤\n",
              "│ lstm_22 (\u001b[38;5;33mLSTM\u001b[0m)                  │ (\u001b[38;5;45mNone\u001b[0m, \u001b[38;5;34m64\u001b[0m)             │        \u001b[38;5;34m33,024\u001b[0m │\n",
              "├─────────────────────────────────┼────────────────────────┼───────────────┤\n",
              "│ dense_20 (\u001b[38;5;33mDense\u001b[0m)                │ (\u001b[38;5;45mNone\u001b[0m, \u001b[38;5;34m128\u001b[0m)            │         \u001b[38;5;34m8,320\u001b[0m │\n",
              "├─────────────────────────────────┼────────────────────────┼───────────────┤\n",
              "│ dropout_10 (\u001b[38;5;33mDropout\u001b[0m)            │ (\u001b[38;5;45mNone\u001b[0m, \u001b[38;5;34m128\u001b[0m)            │             \u001b[38;5;34m0\u001b[0m │\n",
              "├─────────────────────────────────┼────────────────────────┼───────────────┤\n",
              "│ dense_21 (\u001b[38;5;33mDense\u001b[0m)                │ (\u001b[38;5;45mNone\u001b[0m, \u001b[38;5;34m1\u001b[0m)              │           \u001b[38;5;34m129\u001b[0m │\n",
              "└─────────────────────────────────┴────────────────────────┴───────────────┘\n"
            ],
            "text/html": [
              "<pre style=\"white-space:pre;overflow-x:auto;line-height:normal;font-family:Menlo,'DejaVu Sans Mono',consolas,'Courier New',monospace\">┏━━━━━━━━━━━━━━━━━━━━━━━━━━━━━━━━━┳━━━━━━━━━━━━━━━━━━━━━━━━┳━━━━━━━━━━━━━━━┓\n",
              "┃<span style=\"font-weight: bold\"> Layer (type)                    </span>┃<span style=\"font-weight: bold\"> Output Shape           </span>┃<span style=\"font-weight: bold\">       Param # </span>┃\n",
              "┡━━━━━━━━━━━━━━━━━━━━━━━━━━━━━━━━━╇━━━━━━━━━━━━━━━━━━━━━━━━╇━━━━━━━━━━━━━━━┩\n",
              "│ lstm_21 (<span style=\"color: #0087ff; text-decoration-color: #0087ff\">LSTM</span>)                  │ (<span style=\"color: #00d7ff; text-decoration-color: #00d7ff\">None</span>, <span style=\"color: #00af00; text-decoration-color: #00af00\">24</span>, <span style=\"color: #00af00; text-decoration-color: #00af00\">64</span>)         │        <span style=\"color: #00af00; text-decoration-color: #00af00\">16,896</span> │\n",
              "├─────────────────────────────────┼────────────────────────┼───────────────┤\n",
              "│ lstm_22 (<span style=\"color: #0087ff; text-decoration-color: #0087ff\">LSTM</span>)                  │ (<span style=\"color: #00d7ff; text-decoration-color: #00d7ff\">None</span>, <span style=\"color: #00af00; text-decoration-color: #00af00\">64</span>)             │        <span style=\"color: #00af00; text-decoration-color: #00af00\">33,024</span> │\n",
              "├─────────────────────────────────┼────────────────────────┼───────────────┤\n",
              "│ dense_20 (<span style=\"color: #0087ff; text-decoration-color: #0087ff\">Dense</span>)                │ (<span style=\"color: #00d7ff; text-decoration-color: #00d7ff\">None</span>, <span style=\"color: #00af00; text-decoration-color: #00af00\">128</span>)            │         <span style=\"color: #00af00; text-decoration-color: #00af00\">8,320</span> │\n",
              "├─────────────────────────────────┼────────────────────────┼───────────────┤\n",
              "│ dropout_10 (<span style=\"color: #0087ff; text-decoration-color: #0087ff\">Dropout</span>)            │ (<span style=\"color: #00d7ff; text-decoration-color: #00d7ff\">None</span>, <span style=\"color: #00af00; text-decoration-color: #00af00\">128</span>)            │             <span style=\"color: #00af00; text-decoration-color: #00af00\">0</span> │\n",
              "├─────────────────────────────────┼────────────────────────┼───────────────┤\n",
              "│ dense_21 (<span style=\"color: #0087ff; text-decoration-color: #0087ff\">Dense</span>)                │ (<span style=\"color: #00d7ff; text-decoration-color: #00d7ff\">None</span>, <span style=\"color: #00af00; text-decoration-color: #00af00\">1</span>)              │           <span style=\"color: #00af00; text-decoration-color: #00af00\">129</span> │\n",
              "└─────────────────────────────────┴────────────────────────┴───────────────┘\n",
              "</pre>\n"
            ]
          },
          "metadata": {}
        },
        {
          "output_type": "display_data",
          "data": {
            "text/plain": [
              "\u001b[1m Total params: \u001b[0m\u001b[38;5;34m58,369\u001b[0m (228.00 KB)\n"
            ],
            "text/html": [
              "<pre style=\"white-space:pre;overflow-x:auto;line-height:normal;font-family:Menlo,'DejaVu Sans Mono',consolas,'Courier New',monospace\"><span style=\"font-weight: bold\"> Total params: </span><span style=\"color: #00af00; text-decoration-color: #00af00\">58,369</span> (228.00 KB)\n",
              "</pre>\n"
            ]
          },
          "metadata": {}
        },
        {
          "output_type": "display_data",
          "data": {
            "text/plain": [
              "\u001b[1m Trainable params: \u001b[0m\u001b[38;5;34m58,369\u001b[0m (228.00 KB)\n"
            ],
            "text/html": [
              "<pre style=\"white-space:pre;overflow-x:auto;line-height:normal;font-family:Menlo,'DejaVu Sans Mono',consolas,'Courier New',monospace\"><span style=\"font-weight: bold\"> Trainable params: </span><span style=\"color: #00af00; text-decoration-color: #00af00\">58,369</span> (228.00 KB)\n",
              "</pre>\n"
            ]
          },
          "metadata": {}
        },
        {
          "output_type": "display_data",
          "data": {
            "text/plain": [
              "\u001b[1m Non-trainable params: \u001b[0m\u001b[38;5;34m0\u001b[0m (0.00 B)\n"
            ],
            "text/html": [
              "<pre style=\"white-space:pre;overflow-x:auto;line-height:normal;font-family:Menlo,'DejaVu Sans Mono',consolas,'Courier New',monospace\"><span style=\"font-weight: bold\"> Non-trainable params: </span><span style=\"color: #00af00; text-decoration-color: #00af00\">0</span> (0.00 B)\n",
              "</pre>\n"
            ]
          },
          "metadata": {}
        }
      ]
    },
    {
      "cell_type": "code",
      "source": [
        "learning_rate=0.001\n",
        "epochs=500\n",
        "batch_size= 32\n",
        "patience = 50\n",
        "\n",
        "\n",
        "optimizer = Adam(learning_rate=learning_rate)\n",
        "\n",
        "early_stop = EarlyStopping(monitor='val_loss', patience=patience)\n",
        "\n",
        "model.compile(optimizer=optimizer,\n",
        "              loss='mae',\n",
        "              metrics=[keras.metrics.RootMeanSquaredError()]\n",
        "              )\n",
        "\n"
      ],
      "metadata": {
        "id": "IRWZxmj29Sug"
      },
      "execution_count": 450,
      "outputs": []
    },
    {
      "cell_type": "code",
      "source": [
        "history = model.fit( X_train,\n",
        "                     y_train,\n",
        "                     epochs=epochs,\n",
        "                     batch_size= batch_size,\n",
        "                     verbose = 1,\n",
        "                     validation_data=(X_val, y_val),\n",
        "                     callbacks = [early_stop]\n",
        "                     )"
      ],
      "metadata": {
        "colab": {
          "base_uri": "https://localhost:8080/"
        },
        "id": "NAD-hAAF-Gdm",
        "outputId": "cfe806c4-eab4-48a3-854a-2d7dbcd8b264"
      },
      "execution_count": 451,
      "outputs": [
        {
          "output_type": "stream",
          "name": "stdout",
          "text": [
            "Epoch 1/500\n",
            "\u001b[1m31/31\u001b[0m \u001b[32m━━━━━━━━━━━━━━━━━━━━\u001b[0m\u001b[37m\u001b[0m \u001b[1m6s\u001b[0m 68ms/step - loss: 0.3364 - root_mean_squared_error: 0.4283 - val_loss: 0.3310 - val_root_mean_squared_error: 0.3540\n",
            "Epoch 2/500\n",
            "\u001b[1m31/31\u001b[0m \u001b[32m━━━━━━━━━━━━━━━━━━━━\u001b[0m\u001b[37m\u001b[0m \u001b[1m2s\u001b[0m 40ms/step - loss: 0.1530 - root_mean_squared_error: 0.1988 - val_loss: 0.1645 - val_root_mean_squared_error: 0.1984\n",
            "Epoch 3/500\n",
            "\u001b[1m31/31\u001b[0m \u001b[32m━━━━━━━━━━━━━━━━━━━━\u001b[0m\u001b[37m\u001b[0m \u001b[1m1s\u001b[0m 26ms/step - loss: 0.1494 - root_mean_squared_error: 0.1934 - val_loss: 0.1501 - val_root_mean_squared_error: 0.1823\n",
            "Epoch 4/500\n",
            "\u001b[1m31/31\u001b[0m \u001b[32m━━━━━━━━━━━━━━━━━━━━\u001b[0m\u001b[37m\u001b[0m \u001b[1m1s\u001b[0m 27ms/step - loss: 0.1413 - root_mean_squared_error: 0.1848 - val_loss: 0.0869 - val_root_mean_squared_error: 0.1022\n",
            "Epoch 5/500\n",
            "\u001b[1m31/31\u001b[0m \u001b[32m━━━━━━━━━━━━━━━━━━━━\u001b[0m\u001b[37m\u001b[0m \u001b[1m1s\u001b[0m 28ms/step - loss: 0.1430 - root_mean_squared_error: 0.1863 - val_loss: 0.0962 - val_root_mean_squared_error: 0.1282\n",
            "Epoch 6/500\n",
            "\u001b[1m31/31\u001b[0m \u001b[32m━━━━━━━━━━━━━━━━━━━━\u001b[0m\u001b[37m\u001b[0m \u001b[1m1s\u001b[0m 28ms/step - loss: 0.1373 - root_mean_squared_error: 0.1800 - val_loss: 0.2008 - val_root_mean_squared_error: 0.2275\n",
            "Epoch 7/500\n",
            "\u001b[1m31/31\u001b[0m \u001b[32m━━━━━━━━━━━━━━━━━━━━\u001b[0m\u001b[37m\u001b[0m \u001b[1m1s\u001b[0m 27ms/step - loss: 0.1386 - root_mean_squared_error: 0.1802 - val_loss: 0.0923 - val_root_mean_squared_error: 0.1234\n",
            "Epoch 8/500\n",
            "\u001b[1m31/31\u001b[0m \u001b[32m━━━━━━━━━━━━━━━━━━━━\u001b[0m\u001b[37m\u001b[0m \u001b[1m1s\u001b[0m 28ms/step - loss: 0.1451 - root_mean_squared_error: 0.1861 - val_loss: 0.0924 - val_root_mean_squared_error: 0.1099\n",
            "Epoch 9/500\n",
            "\u001b[1m31/31\u001b[0m \u001b[32m━━━━━━━━━━━━━━━━━━━━\u001b[0m\u001b[37m\u001b[0m \u001b[1m1s\u001b[0m 27ms/step - loss: 0.1382 - root_mean_squared_error: 0.1817 - val_loss: 0.0862 - val_root_mean_squared_error: 0.1146\n",
            "Epoch 10/500\n",
            "\u001b[1m31/31\u001b[0m \u001b[32m━━━━━━━━━━━━━━━━━━━━\u001b[0m\u001b[37m\u001b[0m \u001b[1m1s\u001b[0m 27ms/step - loss: 0.1374 - root_mean_squared_error: 0.1809 - val_loss: 0.2066 - val_root_mean_squared_error: 0.2326\n",
            "Epoch 11/500\n",
            "\u001b[1m31/31\u001b[0m \u001b[32m━━━━━━━━━━━━━━━━━━━━\u001b[0m\u001b[37m\u001b[0m \u001b[1m1s\u001b[0m 28ms/step - loss: 0.1329 - root_mean_squared_error: 0.1718 - val_loss: 0.1070 - val_root_mean_squared_error: 0.1275\n",
            "Epoch 12/500\n",
            "\u001b[1m31/31\u001b[0m \u001b[32m━━━━━━━━━━━━━━━━━━━━\u001b[0m\u001b[37m\u001b[0m \u001b[1m1s\u001b[0m 41ms/step - loss: 0.1358 - root_mean_squared_error: 0.1787 - val_loss: 0.0850 - val_root_mean_squared_error: 0.1133\n",
            "Epoch 13/500\n",
            "\u001b[1m31/31\u001b[0m \u001b[32m━━━━━━━━━━━━━━━━━━━━\u001b[0m\u001b[37m\u001b[0m \u001b[1m1s\u001b[0m 44ms/step - loss: 0.1329 - root_mean_squared_error: 0.1761 - val_loss: 0.0875 - val_root_mean_squared_error: 0.1166\n",
            "Epoch 14/500\n",
            "\u001b[1m31/31\u001b[0m \u001b[32m━━━━━━━━━━━━━━━━━━━━\u001b[0m\u001b[37m\u001b[0m \u001b[1m1s\u001b[0m 46ms/step - loss: 0.1249 - root_mean_squared_error: 0.1635 - val_loss: 0.2855 - val_root_mean_squared_error: 0.3059\n",
            "Epoch 15/500\n",
            "\u001b[1m31/31\u001b[0m \u001b[32m━━━━━━━━━━━━━━━━━━━━\u001b[0m\u001b[37m\u001b[0m \u001b[1m1s\u001b[0m 29ms/step - loss: 0.1327 - root_mean_squared_error: 0.1723 - val_loss: 0.0846 - val_root_mean_squared_error: 0.1059\n",
            "Epoch 16/500\n",
            "\u001b[1m31/31\u001b[0m \u001b[32m━━━━━━━━━━━━━━━━━━━━\u001b[0m\u001b[37m\u001b[0m \u001b[1m1s\u001b[0m 32ms/step - loss: 0.1377 - root_mean_squared_error: 0.1825 - val_loss: 0.0839 - val_root_mean_squared_error: 0.1102\n",
            "Epoch 17/500\n",
            "\u001b[1m31/31\u001b[0m \u001b[32m━━━━━━━━━━━━━━━━━━━━\u001b[0m\u001b[37m\u001b[0m \u001b[1m1s\u001b[0m 27ms/step - loss: 0.1322 - root_mean_squared_error: 0.1734 - val_loss: 0.0884 - val_root_mean_squared_error: 0.1105\n",
            "Epoch 18/500\n",
            "\u001b[1m31/31\u001b[0m \u001b[32m━━━━━━━━━━━━━━━━━━━━\u001b[0m\u001b[37m\u001b[0m \u001b[1m1s\u001b[0m 27ms/step - loss: 0.1326 - root_mean_squared_error: 0.1750 - val_loss: 0.1624 - val_root_mean_squared_error: 0.1937\n",
            "Epoch 19/500\n",
            "\u001b[1m31/31\u001b[0m \u001b[32m━━━━━━━━━━━━━━━━━━━━\u001b[0m\u001b[37m\u001b[0m \u001b[1m1s\u001b[0m 27ms/step - loss: 0.1405 - root_mean_squared_error: 0.1863 - val_loss: 0.0892 - val_root_mean_squared_error: 0.1116\n",
            "Epoch 20/500\n",
            "\u001b[1m31/31\u001b[0m \u001b[32m━━━━━━━━━━━━━━━━━━━━\u001b[0m\u001b[37m\u001b[0m \u001b[1m1s\u001b[0m 27ms/step - loss: 0.1300 - root_mean_squared_error: 0.1699 - val_loss: 0.0852 - val_root_mean_squared_error: 0.1081\n",
            "Epoch 21/500\n",
            "\u001b[1m31/31\u001b[0m \u001b[32m━━━━━━━━━━━━━━━━━━━━\u001b[0m\u001b[37m\u001b[0m \u001b[1m1s\u001b[0m 27ms/step - loss: 0.1329 - root_mean_squared_error: 0.1755 - val_loss: 0.0892 - val_root_mean_squared_error: 0.1112\n",
            "Epoch 22/500\n",
            "\u001b[1m31/31\u001b[0m \u001b[32m━━━━━━━━━━━━━━━━━━━━\u001b[0m\u001b[37m\u001b[0m \u001b[1m1s\u001b[0m 27ms/step - loss: 0.1368 - root_mean_squared_error: 0.1812 - val_loss: 0.0840 - val_root_mean_squared_error: 0.1101\n",
            "Epoch 23/500\n",
            "\u001b[1m31/31\u001b[0m \u001b[32m━━━━━━━━━━━━━━━━━━━━\u001b[0m\u001b[37m\u001b[0m \u001b[1m1s\u001b[0m 27ms/step - loss: 0.1253 - root_mean_squared_error: 0.1678 - val_loss: 0.0898 - val_root_mean_squared_error: 0.1111\n",
            "Epoch 24/500\n",
            "\u001b[1m31/31\u001b[0m \u001b[32m━━━━━━━━━━━━━━━━━━━━\u001b[0m\u001b[37m\u001b[0m \u001b[1m1s\u001b[0m 26ms/step - loss: 0.1312 - root_mean_squared_error: 0.1705 - val_loss: 0.0944 - val_root_mean_squared_error: 0.1238\n",
            "Epoch 25/500\n",
            "\u001b[1m31/31\u001b[0m \u001b[32m━━━━━━━━━━━━━━━━━━━━\u001b[0m\u001b[37m\u001b[0m \u001b[1m2s\u001b[0m 45ms/step - loss: 0.1242 - root_mean_squared_error: 0.1638 - val_loss: 0.0871 - val_root_mean_squared_error: 0.1146\n",
            "Epoch 26/500\n",
            "\u001b[1m31/31\u001b[0m \u001b[32m━━━━━━━━━━━━━━━━━━━━\u001b[0m\u001b[37m\u001b[0m \u001b[1m1s\u001b[0m 46ms/step - loss: 0.1255 - root_mean_squared_error: 0.1657 - val_loss: 0.0968 - val_root_mean_squared_error: 0.1292\n",
            "Epoch 27/500\n",
            "\u001b[1m31/31\u001b[0m \u001b[32m━━━━━━━━━━━━━━━━━━━━\u001b[0m\u001b[37m\u001b[0m \u001b[1m1s\u001b[0m 27ms/step - loss: 0.1210 - root_mean_squared_error: 0.1598 - val_loss: 0.0847 - val_root_mean_squared_error: 0.1073\n",
            "Epoch 28/500\n",
            "\u001b[1m31/31\u001b[0m \u001b[32m━━━━━━━━━━━━━━━━━━━━\u001b[0m\u001b[37m\u001b[0m \u001b[1m1s\u001b[0m 26ms/step - loss: 0.1295 - root_mean_squared_error: 0.1692 - val_loss: 0.1334 - val_root_mean_squared_error: 0.1660\n",
            "Epoch 29/500\n",
            "\u001b[1m31/31\u001b[0m \u001b[32m━━━━━━━━━━━━━━━━━━━━\u001b[0m\u001b[37m\u001b[0m \u001b[1m1s\u001b[0m 26ms/step - loss: 0.1308 - root_mean_squared_error: 0.1721 - val_loss: 0.1779 - val_root_mean_squared_error: 0.2064\n",
            "Epoch 30/500\n",
            "\u001b[1m31/31\u001b[0m \u001b[32m━━━━━━━━━━━━━━━━━━━━\u001b[0m\u001b[37m\u001b[0m \u001b[1m1s\u001b[0m 27ms/step - loss: 0.1238 - root_mean_squared_error: 0.1621 - val_loss: 0.0859 - val_root_mean_squared_error: 0.1084\n",
            "Epoch 31/500\n",
            "\u001b[1m31/31\u001b[0m \u001b[32m━━━━━━━━━━━━━━━━━━━━\u001b[0m\u001b[37m\u001b[0m \u001b[1m1s\u001b[0m 28ms/step - loss: 0.1219 - root_mean_squared_error: 0.1621 - val_loss: 0.0842 - val_root_mean_squared_error: 0.1075\n",
            "Epoch 32/500\n",
            "\u001b[1m31/31\u001b[0m \u001b[32m━━━━━━━━━━━━━━━━━━━━\u001b[0m\u001b[37m\u001b[0m \u001b[1m1s\u001b[0m 26ms/step - loss: 0.1315 - root_mean_squared_error: 0.1732 - val_loss: 0.0859 - val_root_mean_squared_error: 0.1132\n",
            "Epoch 33/500\n",
            "\u001b[1m31/31\u001b[0m \u001b[32m━━━━━━━━━━━━━━━━━━━━\u001b[0m\u001b[37m\u001b[0m \u001b[1m1s\u001b[0m 27ms/step - loss: 0.1205 - root_mean_squared_error: 0.1584 - val_loss: 0.0840 - val_root_mean_squared_error: 0.1104\n",
            "Epoch 34/500\n",
            "\u001b[1m31/31\u001b[0m \u001b[32m━━━━━━━━━━━━━━━━━━━━\u001b[0m\u001b[37m\u001b[0m \u001b[1m1s\u001b[0m 26ms/step - loss: 0.1273 - root_mean_squared_error: 0.1683 - val_loss: 0.0833 - val_root_mean_squared_error: 0.1085\n",
            "Epoch 35/500\n",
            "\u001b[1m31/31\u001b[0m \u001b[32m━━━━━━━━━━━━━━━━━━━━\u001b[0m\u001b[37m\u001b[0m \u001b[1m1s\u001b[0m 26ms/step - loss: 0.1279 - root_mean_squared_error: 0.1699 - val_loss: 0.0848 - val_root_mean_squared_error: 0.1118\n",
            "Epoch 36/500\n",
            "\u001b[1m31/31\u001b[0m \u001b[32m━━━━━━━━━━━━━━━━━━━━\u001b[0m\u001b[37m\u001b[0m \u001b[1m1s\u001b[0m 37ms/step - loss: 0.1312 - root_mean_squared_error: 0.1730 - val_loss: 0.1112 - val_root_mean_squared_error: 0.1359\n",
            "Epoch 37/500\n",
            "\u001b[1m31/31\u001b[0m \u001b[32m━━━━━━━━━━━━━━━━━━━━\u001b[0m\u001b[37m\u001b[0m \u001b[1m1s\u001b[0m 45ms/step - loss: 0.1249 - root_mean_squared_error: 0.1638 - val_loss: 0.0831 - val_root_mean_squared_error: 0.1090\n",
            "Epoch 38/500\n",
            "\u001b[1m31/31\u001b[0m \u001b[32m━━━━━━━━━━━━━━━━━━━━\u001b[0m\u001b[37m\u001b[0m \u001b[1m1s\u001b[0m 47ms/step - loss: 0.1240 - root_mean_squared_error: 0.1643 - val_loss: 0.0948 - val_root_mean_squared_error: 0.1154\n",
            "Epoch 39/500\n",
            "\u001b[1m31/31\u001b[0m \u001b[32m━━━━━━━━━━━━━━━━━━━━\u001b[0m\u001b[37m\u001b[0m \u001b[1m1s\u001b[0m 26ms/step - loss: 0.1224 - root_mean_squared_error: 0.1623 - val_loss: 0.1295 - val_root_mean_squared_error: 0.1560\n",
            "Epoch 40/500\n",
            "\u001b[1m31/31\u001b[0m \u001b[32m━━━━━━━━━━━━━━━━━━━━\u001b[0m\u001b[37m\u001b[0m \u001b[1m1s\u001b[0m 26ms/step - loss: 0.1336 - root_mean_squared_error: 0.1753 - val_loss: 0.1011 - val_root_mean_squared_error: 0.1335\n",
            "Epoch 41/500\n",
            "\u001b[1m31/31\u001b[0m \u001b[32m━━━━━━━━━━━━━━━━━━━━\u001b[0m\u001b[37m\u001b[0m \u001b[1m1s\u001b[0m 26ms/step - loss: 0.1270 - root_mean_squared_error: 0.1649 - val_loss: 0.0855 - val_root_mean_squared_error: 0.1074\n",
            "Epoch 42/500\n",
            "\u001b[1m31/31\u001b[0m \u001b[32m━━━━━━━━━━━━━━━━━━━━\u001b[0m\u001b[37m\u001b[0m \u001b[1m1s\u001b[0m 26ms/step - loss: 0.1216 - root_mean_squared_error: 0.1612 - val_loss: 0.0994 - val_root_mean_squared_error: 0.1309\n",
            "Epoch 43/500\n",
            "\u001b[1m31/31\u001b[0m \u001b[32m━━━━━━━━━━━━━━━━━━━━\u001b[0m\u001b[37m\u001b[0m \u001b[1m1s\u001b[0m 27ms/step - loss: 0.1194 - root_mean_squared_error: 0.1568 - val_loss: 0.0837 - val_root_mean_squared_error: 0.1075\n",
            "Epoch 44/500\n",
            "\u001b[1m31/31\u001b[0m \u001b[32m━━━━━━━━━━━━━━━━━━━━\u001b[0m\u001b[37m\u001b[0m \u001b[1m1s\u001b[0m 26ms/step - loss: 0.1258 - root_mean_squared_error: 0.1679 - val_loss: 0.0880 - val_root_mean_squared_error: 0.1093\n",
            "Epoch 45/500\n",
            "\u001b[1m31/31\u001b[0m \u001b[32m━━━━━━━━━━━━━━━━━━━━\u001b[0m\u001b[37m\u001b[0m \u001b[1m1s\u001b[0m 27ms/step - loss: 0.1213 - root_mean_squared_error: 0.1606 - val_loss: 0.0835 - val_root_mean_squared_error: 0.1096\n",
            "Epoch 46/500\n",
            "\u001b[1m31/31\u001b[0m \u001b[32m━━━━━━━━━━━━━━━━━━━━\u001b[0m\u001b[37m\u001b[0m \u001b[1m1s\u001b[0m 27ms/step - loss: 0.1252 - root_mean_squared_error: 0.1690 - val_loss: 0.0826 - val_root_mean_squared_error: 0.1072\n",
            "Epoch 47/500\n",
            "\u001b[1m31/31\u001b[0m \u001b[32m━━━━━━━━━━━━━━━━━━━━\u001b[0m\u001b[37m\u001b[0m \u001b[1m1s\u001b[0m 27ms/step - loss: 0.1219 - root_mean_squared_error: 0.1633 - val_loss: 0.0869 - val_root_mean_squared_error: 0.1159\n",
            "Epoch 48/500\n",
            "\u001b[1m31/31\u001b[0m \u001b[32m━━━━━━━━━━━━━━━━━━━━\u001b[0m\u001b[37m\u001b[0m \u001b[1m1s\u001b[0m 28ms/step - loss: 0.1259 - root_mean_squared_error: 0.1673 - val_loss: 0.1068 - val_root_mean_squared_error: 0.1406\n",
            "Epoch 49/500\n",
            "\u001b[1m31/31\u001b[0m \u001b[32m━━━━━━━━━━━━━━━━━━━━\u001b[0m\u001b[37m\u001b[0m \u001b[1m2s\u001b[0m 43ms/step - loss: 0.1268 - root_mean_squared_error: 0.1687 - val_loss: 0.1071 - val_root_mean_squared_error: 0.1256\n",
            "Epoch 50/500\n",
            "\u001b[1m31/31\u001b[0m \u001b[32m━━━━━━━━━━━━━━━━━━━━\u001b[0m\u001b[37m\u001b[0m \u001b[1m2s\u001b[0m 39ms/step - loss: 0.1227 - root_mean_squared_error: 0.1650 - val_loss: 0.1435 - val_root_mean_squared_error: 0.1717\n",
            "Epoch 51/500\n",
            "\u001b[1m31/31\u001b[0m \u001b[32m━━━━━━━━━━━━━━━━━━━━\u001b[0m\u001b[37m\u001b[0m \u001b[1m1s\u001b[0m 26ms/step - loss: 0.1211 - root_mean_squared_error: 0.1614 - val_loss: 0.0910 - val_root_mean_squared_error: 0.1221\n",
            "Epoch 52/500\n",
            "\u001b[1m31/31\u001b[0m \u001b[32m━━━━━━━━━━━━━━━━━━━━\u001b[0m\u001b[37m\u001b[0m \u001b[1m1s\u001b[0m 27ms/step - loss: 0.1232 - root_mean_squared_error: 0.1628 - val_loss: 0.0941 - val_root_mean_squared_error: 0.1262\n",
            "Epoch 53/500\n",
            "\u001b[1m31/31\u001b[0m \u001b[32m━━━━━━━━━━━━━━━━━━━━\u001b[0m\u001b[37m\u001b[0m \u001b[1m1s\u001b[0m 26ms/step - loss: 0.1280 - root_mean_squared_error: 0.1697 - val_loss: 0.0989 - val_root_mean_squared_error: 0.1294\n",
            "Epoch 54/500\n",
            "\u001b[1m31/31\u001b[0m \u001b[32m━━━━━━━━━━━━━━━━━━━━\u001b[0m\u001b[37m\u001b[0m \u001b[1m1s\u001b[0m 27ms/step - loss: 0.1202 - root_mean_squared_error: 0.1603 - val_loss: 0.1338 - val_root_mean_squared_error: 0.1637\n",
            "Epoch 55/500\n",
            "\u001b[1m31/31\u001b[0m \u001b[32m━━━━━━━━━━━━━━━━━━━━\u001b[0m\u001b[37m\u001b[0m \u001b[1m1s\u001b[0m 26ms/step - loss: 0.1250 - root_mean_squared_error: 0.1681 - val_loss: 0.0883 - val_root_mean_squared_error: 0.1079\n",
            "Epoch 56/500\n",
            "\u001b[1m31/31\u001b[0m \u001b[32m━━━━━━━━━━━━━━━━━━━━\u001b[0m\u001b[37m\u001b[0m \u001b[1m1s\u001b[0m 27ms/step - loss: 0.1207 - root_mean_squared_error: 0.1598 - val_loss: 0.0925 - val_root_mean_squared_error: 0.1235\n",
            "Epoch 57/500\n",
            "\u001b[1m31/31\u001b[0m \u001b[32m━━━━━━━━━━━━━━━━━━━━\u001b[0m\u001b[37m\u001b[0m \u001b[1m1s\u001b[0m 27ms/step - loss: 0.1203 - root_mean_squared_error: 0.1589 - val_loss: 0.0825 - val_root_mean_squared_error: 0.1094\n",
            "Epoch 58/500\n",
            "\u001b[1m31/31\u001b[0m \u001b[32m━━━━━━━━━━━━━━━━━━━━\u001b[0m\u001b[37m\u001b[0m \u001b[1m1s\u001b[0m 27ms/step - loss: 0.1214 - root_mean_squared_error: 0.1626 - val_loss: 0.1537 - val_root_mean_squared_error: 0.1804\n",
            "Epoch 59/500\n",
            "\u001b[1m31/31\u001b[0m \u001b[32m━━━━━━━━━━━━━━━━━━━━\u001b[0m\u001b[37m\u001b[0m \u001b[1m1s\u001b[0m 27ms/step - loss: 0.1221 - root_mean_squared_error: 0.1611 - val_loss: 0.0914 - val_root_mean_squared_error: 0.1116\n",
            "Epoch 60/500\n",
            "\u001b[1m31/31\u001b[0m \u001b[32m━━━━━━━━━━━━━━━━━━━━\u001b[0m\u001b[37m\u001b[0m \u001b[1m2s\u001b[0m 47ms/step - loss: 0.1263 - root_mean_squared_error: 0.1687 - val_loss: 0.1223 - val_root_mean_squared_error: 0.1591\n",
            "Epoch 61/500\n",
            "\u001b[1m31/31\u001b[0m \u001b[32m━━━━━━━━━━━━━━━━━━━━\u001b[0m\u001b[37m\u001b[0m \u001b[1m1s\u001b[0m 45ms/step - loss: 0.1225 - root_mean_squared_error: 0.1640 - val_loss: 0.0891 - val_root_mean_squared_error: 0.1214\n",
            "Epoch 62/500\n",
            "\u001b[1m31/31\u001b[0m \u001b[32m━━━━━━━━━━━━━━━━━━━━\u001b[0m\u001b[37m\u001b[0m \u001b[1m1s\u001b[0m 32ms/step - loss: 0.1227 - root_mean_squared_error: 0.1631 - val_loss: 0.0946 - val_root_mean_squared_error: 0.1272\n",
            "Epoch 63/500\n",
            "\u001b[1m31/31\u001b[0m \u001b[32m━━━━━━━━━━━━━━━━━━━━\u001b[0m\u001b[37m\u001b[0m \u001b[1m1s\u001b[0m 27ms/step - loss: 0.1239 - root_mean_squared_error: 0.1655 - val_loss: 0.0816 - val_root_mean_squared_error: 0.1052\n",
            "Epoch 64/500\n",
            "\u001b[1m31/31\u001b[0m \u001b[32m━━━━━━━━━━━━━━━━━━━━\u001b[0m\u001b[37m\u001b[0m \u001b[1m1s\u001b[0m 27ms/step - loss: 0.1247 - root_mean_squared_error: 0.1654 - val_loss: 0.0920 - val_root_mean_squared_error: 0.1112\n",
            "Epoch 65/500\n",
            "\u001b[1m31/31\u001b[0m \u001b[32m━━━━━━━━━━━━━━━━━━━━\u001b[0m\u001b[37m\u001b[0m \u001b[1m1s\u001b[0m 27ms/step - loss: 0.1185 - root_mean_squared_error: 0.1585 - val_loss: 0.0839 - val_root_mean_squared_error: 0.1124\n",
            "Epoch 66/500\n",
            "\u001b[1m31/31\u001b[0m \u001b[32m━━━━━━━━━━━━━━━━━━━━\u001b[0m\u001b[37m\u001b[0m \u001b[1m1s\u001b[0m 27ms/step - loss: 0.1241 - root_mean_squared_error: 0.1640 - val_loss: 0.0934 - val_root_mean_squared_error: 0.1235\n",
            "Epoch 67/500\n",
            "\u001b[1m31/31\u001b[0m \u001b[32m━━━━━━━━━━━━━━━━━━━━\u001b[0m\u001b[37m\u001b[0m \u001b[1m1s\u001b[0m 28ms/step - loss: 0.1278 - root_mean_squared_error: 0.1704 - val_loss: 0.1164 - val_root_mean_squared_error: 0.1395\n",
            "Epoch 68/500\n",
            "\u001b[1m31/31\u001b[0m \u001b[32m━━━━━━━━━━━━━━━━━━━━\u001b[0m\u001b[37m\u001b[0m \u001b[1m1s\u001b[0m 29ms/step - loss: 0.1176 - root_mean_squared_error: 0.1561 - val_loss: 0.0982 - val_root_mean_squared_error: 0.1157\n",
            "Epoch 69/500\n",
            "\u001b[1m31/31\u001b[0m \u001b[32m━━━━━━━━━━━━━━━━━━━━\u001b[0m\u001b[37m\u001b[0m \u001b[1m1s\u001b[0m 29ms/step - loss: 0.1222 - root_mean_squared_error: 0.1657 - val_loss: 0.1056 - val_root_mean_squared_error: 0.1392\n",
            "Epoch 70/500\n",
            "\u001b[1m31/31\u001b[0m \u001b[32m━━━━━━━━━━━━━━━━━━━━\u001b[0m\u001b[37m\u001b[0m \u001b[1m1s\u001b[0m 27ms/step - loss: 0.1247 - root_mean_squared_error: 0.1671 - val_loss: 0.1243 - val_root_mean_squared_error: 0.1577\n",
            "Epoch 71/500\n",
            "\u001b[1m31/31\u001b[0m \u001b[32m━━━━━━━━━━━━━━━━━━━━\u001b[0m\u001b[37m\u001b[0m \u001b[1m1s\u001b[0m 28ms/step - loss: 0.1192 - root_mean_squared_error: 0.1585 - val_loss: 0.0832 - val_root_mean_squared_error: 0.1078\n",
            "Epoch 72/500\n",
            "\u001b[1m31/31\u001b[0m \u001b[32m━━━━━━━━━━━━━━━━━━━━\u001b[0m\u001b[37m\u001b[0m \u001b[1m2s\u001b[0m 47ms/step - loss: 0.1208 - root_mean_squared_error: 0.1610 - val_loss: 0.0952 - val_root_mean_squared_error: 0.1137\n",
            "Epoch 73/500\n",
            "\u001b[1m31/31\u001b[0m \u001b[32m━━━━━━━━━━━━━━━━━━━━\u001b[0m\u001b[37m\u001b[0m \u001b[1m1s\u001b[0m 46ms/step - loss: 0.1188 - root_mean_squared_error: 0.1575 - val_loss: 0.0884 - val_root_mean_squared_error: 0.1192\n",
            "Epoch 74/500\n",
            "\u001b[1m31/31\u001b[0m \u001b[32m━━━━━━━━━━━━━━━━━━━━\u001b[0m\u001b[37m\u001b[0m \u001b[1m1s\u001b[0m 36ms/step - loss: 0.1269 - root_mean_squared_error: 0.1664 - val_loss: 0.0935 - val_root_mean_squared_error: 0.1117\n",
            "Epoch 75/500\n",
            "\u001b[1m31/31\u001b[0m \u001b[32m━━━━━━━━━━━━━━━━━━━━\u001b[0m\u001b[37m\u001b[0m \u001b[1m1s\u001b[0m 29ms/step - loss: 0.1204 - root_mean_squared_error: 0.1618 - val_loss: 0.0898 - val_root_mean_squared_error: 0.1167\n",
            "Epoch 76/500\n",
            "\u001b[1m31/31\u001b[0m \u001b[32m━━━━━━━━━━━━━━━━━━━━\u001b[0m\u001b[37m\u001b[0m \u001b[1m1s\u001b[0m 28ms/step - loss: 0.1225 - root_mean_squared_error: 0.1646 - val_loss: 0.0845 - val_root_mean_squared_error: 0.1146\n",
            "Epoch 77/500\n",
            "\u001b[1m31/31\u001b[0m \u001b[32m━━━━━━━━━━━━━━━━━━━━\u001b[0m\u001b[37m\u001b[0m \u001b[1m1s\u001b[0m 28ms/step - loss: 0.1270 - root_mean_squared_error: 0.1688 - val_loss: 0.0846 - val_root_mean_squared_error: 0.1153\n",
            "Epoch 78/500\n",
            "\u001b[1m31/31\u001b[0m \u001b[32m━━━━━━━━━━━━━━━━━━━━\u001b[0m\u001b[37m\u001b[0m \u001b[1m1s\u001b[0m 28ms/step - loss: 0.1145 - root_mean_squared_error: 0.1512 - val_loss: 0.1084 - val_root_mean_squared_error: 0.1451\n",
            "Epoch 79/500\n",
            "\u001b[1m31/31\u001b[0m \u001b[32m━━━━━━━━━━━━━━━━━━━━\u001b[0m\u001b[37m\u001b[0m \u001b[1m1s\u001b[0m 27ms/step - loss: 0.1151 - root_mean_squared_error: 0.1536 - val_loss: 0.0984 - val_root_mean_squared_error: 0.1353\n",
            "Epoch 80/500\n",
            "\u001b[1m31/31\u001b[0m \u001b[32m━━━━━━━━━━━━━━━━━━━━\u001b[0m\u001b[37m\u001b[0m \u001b[1m1s\u001b[0m 27ms/step - loss: 0.1204 - root_mean_squared_error: 0.1613 - val_loss: 0.0896 - val_root_mean_squared_error: 0.1071\n",
            "Epoch 81/500\n",
            "\u001b[1m31/31\u001b[0m \u001b[32m━━━━━━━━━━━━━━━━━━━━\u001b[0m\u001b[37m\u001b[0m \u001b[1m1s\u001b[0m 27ms/step - loss: 0.1220 - root_mean_squared_error: 0.1645 - val_loss: 0.1128 - val_root_mean_squared_error: 0.1303\n",
            "Epoch 82/500\n",
            "\u001b[1m31/31\u001b[0m \u001b[32m━━━━━━━━━━━━━━━━━━━━\u001b[0m\u001b[37m\u001b[0m \u001b[1m1s\u001b[0m 27ms/step - loss: 0.1197 - root_mean_squared_error: 0.1591 - val_loss: 0.0862 - val_root_mean_squared_error: 0.1188\n",
            "Epoch 83/500\n",
            "\u001b[1m31/31\u001b[0m \u001b[32m━━━━━━━━━━━━━━━━━━━━\u001b[0m\u001b[37m\u001b[0m \u001b[1m1s\u001b[0m 34ms/step - loss: 0.1147 - root_mean_squared_error: 0.1543 - val_loss: 0.0872 - val_root_mean_squared_error: 0.1049\n",
            "Epoch 84/500\n",
            "\u001b[1m31/31\u001b[0m \u001b[32m━━━━━━━━━━━━━━━━━━━━\u001b[0m\u001b[37m\u001b[0m \u001b[1m1s\u001b[0m 45ms/step - loss: 0.1206 - root_mean_squared_error: 0.1592 - val_loss: 0.1076 - val_root_mean_squared_error: 0.1458\n",
            "Epoch 85/500\n",
            "\u001b[1m31/31\u001b[0m \u001b[32m━━━━━━━━━━━━━━━━━━━━\u001b[0m\u001b[37m\u001b[0m \u001b[1m1s\u001b[0m 47ms/step - loss: 0.1191 - root_mean_squared_error: 0.1576 - val_loss: 0.1041 - val_root_mean_squared_error: 0.1432\n",
            "Epoch 86/500\n",
            "\u001b[1m31/31\u001b[0m \u001b[32m━━━━━━━━━━━━━━━━━━━━\u001b[0m\u001b[37m\u001b[0m \u001b[1m1s\u001b[0m 33ms/step - loss: 0.1220 - root_mean_squared_error: 0.1616 - val_loss: 0.1476 - val_root_mean_squared_error: 0.1839\n",
            "Epoch 87/500\n",
            "\u001b[1m31/31\u001b[0m \u001b[32m━━━━━━━━━━━━━━━━━━━━\u001b[0m\u001b[37m\u001b[0m \u001b[1m1s\u001b[0m 28ms/step - loss: 0.1225 - root_mean_squared_error: 0.1642 - val_loss: 0.1113 - val_root_mean_squared_error: 0.1522\n",
            "Epoch 88/500\n",
            "\u001b[1m31/31\u001b[0m \u001b[32m━━━━━━━━━━━━━━━━━━━━\u001b[0m\u001b[37m\u001b[0m \u001b[1m1s\u001b[0m 28ms/step - loss: 0.1195 - root_mean_squared_error: 0.1622 - val_loss: 0.1195 - val_root_mean_squared_error: 0.1361\n",
            "Epoch 89/500\n",
            "\u001b[1m31/31\u001b[0m \u001b[32m━━━━━━━━━━━━━━━━━━━━\u001b[0m\u001b[37m\u001b[0m \u001b[1m1s\u001b[0m 27ms/step - loss: 0.1248 - root_mean_squared_error: 0.1650 - val_loss: 0.0925 - val_root_mean_squared_error: 0.1295\n",
            "Epoch 90/500\n",
            "\u001b[1m31/31\u001b[0m \u001b[32m━━━━━━━━━━━━━━━━━━━━\u001b[0m\u001b[37m\u001b[0m \u001b[1m1s\u001b[0m 27ms/step - loss: 0.1193 - root_mean_squared_error: 0.1621 - val_loss: 0.0851 - val_root_mean_squared_error: 0.1140\n",
            "Epoch 91/500\n",
            "\u001b[1m31/31\u001b[0m \u001b[32m━━━━━━━━━━━━━━━━━━━━\u001b[0m\u001b[37m\u001b[0m \u001b[1m1s\u001b[0m 28ms/step - loss: 0.1203 - root_mean_squared_error: 0.1592 - val_loss: 0.0965 - val_root_mean_squared_error: 0.1110\n",
            "Epoch 92/500\n",
            "\u001b[1m31/31\u001b[0m \u001b[32m━━━━━━━━━━━━━━━━━━━━\u001b[0m\u001b[37m\u001b[0m \u001b[1m1s\u001b[0m 27ms/step - loss: 0.1181 - root_mean_squared_error: 0.1578 - val_loss: 0.0968 - val_root_mean_squared_error: 0.1113\n",
            "Epoch 93/500\n",
            "\u001b[1m31/31\u001b[0m \u001b[32m━━━━━━━━━━━━━━━━━━━━\u001b[0m\u001b[37m\u001b[0m \u001b[1m1s\u001b[0m 27ms/step - loss: 0.1191 - root_mean_squared_error: 0.1581 - val_loss: 0.0914 - val_root_mean_squared_error: 0.1283\n",
            "Epoch 94/500\n",
            "\u001b[1m31/31\u001b[0m \u001b[32m━━━━━━━━━━━━━━━━━━━━\u001b[0m\u001b[37m\u001b[0m \u001b[1m1s\u001b[0m 28ms/step - loss: 0.1171 - root_mean_squared_error: 0.1554 - val_loss: 0.1804 - val_root_mean_squared_error: 0.2142\n",
            "Epoch 95/500\n",
            "\u001b[1m31/31\u001b[0m \u001b[32m━━━━━━━━━━━━━━━━━━━━\u001b[0m\u001b[37m\u001b[0m \u001b[1m1s\u001b[0m 35ms/step - loss: 0.1182 - root_mean_squared_error: 0.1572 - val_loss: 0.0910 - val_root_mean_squared_error: 0.1276\n",
            "Epoch 96/500\n",
            "\u001b[1m31/31\u001b[0m \u001b[32m━━━━━━━━━━━━━━━━━━━━\u001b[0m\u001b[37m\u001b[0m \u001b[1m1s\u001b[0m 45ms/step - loss: 0.1211 - root_mean_squared_error: 0.1603 - val_loss: 0.0962 - val_root_mean_squared_error: 0.1105\n",
            "Epoch 97/500\n",
            "\u001b[1m31/31\u001b[0m \u001b[32m━━━━━━━━━━━━━━━━━━━━\u001b[0m\u001b[37m\u001b[0m \u001b[1m1s\u001b[0m 46ms/step - loss: 0.1185 - root_mean_squared_error: 0.1557 - val_loss: 0.0930 - val_root_mean_squared_error: 0.1082\n",
            "Epoch 98/500\n",
            "\u001b[1m31/31\u001b[0m \u001b[32m━━━━━━━━━━━━━━━━━━━━\u001b[0m\u001b[37m\u001b[0m \u001b[1m2s\u001b[0m 27ms/step - loss: 0.1184 - root_mean_squared_error: 0.1573 - val_loss: 0.1042 - val_root_mean_squared_error: 0.1182\n",
            "Epoch 99/500\n",
            "\u001b[1m31/31\u001b[0m \u001b[32m━━━━━━━━━━━━━━━━━━━━\u001b[0m\u001b[37m\u001b[0m \u001b[1m1s\u001b[0m 27ms/step - loss: 0.1182 - root_mean_squared_error: 0.1581 - val_loss: 0.0852 - val_root_mean_squared_error: 0.1090\n",
            "Epoch 100/500\n",
            "\u001b[1m31/31\u001b[0m \u001b[32m━━━━━━━━━━━━━━━━━━━━\u001b[0m\u001b[37m\u001b[0m \u001b[1m1s\u001b[0m 29ms/step - loss: 0.1152 - root_mean_squared_error: 0.1536 - val_loss: 0.1005 - val_root_mean_squared_error: 0.1397\n",
            "Epoch 101/500\n",
            "\u001b[1m31/31\u001b[0m \u001b[32m━━━━━━━━━━━━━━━━━━━━\u001b[0m\u001b[37m\u001b[0m \u001b[1m1s\u001b[0m 28ms/step - loss: 0.1169 - root_mean_squared_error: 0.1572 - val_loss: 0.1561 - val_root_mean_squared_error: 0.1775\n",
            "Epoch 102/500\n",
            "\u001b[1m31/31\u001b[0m \u001b[32m━━━━━━━━━━━━━━━━━━━━\u001b[0m\u001b[37m\u001b[0m \u001b[1m1s\u001b[0m 27ms/step - loss: 0.1205 - root_mean_squared_error: 0.1616 - val_loss: 0.1443 - val_root_mean_squared_error: 0.1806\n",
            "Epoch 103/500\n",
            "\u001b[1m31/31\u001b[0m \u001b[32m━━━━━━━━━━━━━━━━━━━━\u001b[0m\u001b[37m\u001b[0m \u001b[1m1s\u001b[0m 27ms/step - loss: 0.1206 - root_mean_squared_error: 0.1606 - val_loss: 0.0884 - val_root_mean_squared_error: 0.1211\n",
            "Epoch 104/500\n",
            "\u001b[1m31/31\u001b[0m \u001b[32m━━━━━━━━━━━━━━━━━━━━\u001b[0m\u001b[37m\u001b[0m \u001b[1m1s\u001b[0m 27ms/step - loss: 0.1188 - root_mean_squared_error: 0.1586 - val_loss: 0.0873 - val_root_mean_squared_error: 0.1171\n",
            "Epoch 105/500\n",
            "\u001b[1m31/31\u001b[0m \u001b[32m━━━━━━━━━━━━━━━━━━━━\u001b[0m\u001b[37m\u001b[0m \u001b[1m1s\u001b[0m 28ms/step - loss: 0.1175 - root_mean_squared_error: 0.1568 - val_loss: 0.0900 - val_root_mean_squared_error: 0.1094\n",
            "Epoch 106/500\n",
            "\u001b[1m31/31\u001b[0m \u001b[32m━━━━━━━━━━━━━━━━━━━━\u001b[0m\u001b[37m\u001b[0m \u001b[1m1s\u001b[0m 35ms/step - loss: 0.1140 - root_mean_squared_error: 0.1541 - val_loss: 0.1349 - val_root_mean_squared_error: 0.1735\n",
            "Epoch 107/500\n",
            "\u001b[1m31/31\u001b[0m \u001b[32m━━━━━━━━━━━━━━━━━━━━\u001b[0m\u001b[37m\u001b[0m \u001b[1m1s\u001b[0m 45ms/step - loss: 0.1141 - root_mean_squared_error: 0.1527 - val_loss: 0.1606 - val_root_mean_squared_error: 0.1945\n",
            "Epoch 108/500\n",
            "\u001b[1m31/31\u001b[0m \u001b[32m━━━━━━━━━━━━━━━━━━━━\u001b[0m\u001b[37m\u001b[0m \u001b[1m2s\u001b[0m 30ms/step - loss: 0.1218 - root_mean_squared_error: 0.1620 - val_loss: 0.1002 - val_root_mean_squared_error: 0.1399\n",
            "Epoch 109/500\n",
            "\u001b[1m31/31\u001b[0m \u001b[32m━━━━━━━━━━━━━━━━━━━━\u001b[0m\u001b[37m\u001b[0m \u001b[1m1s\u001b[0m 28ms/step - loss: 0.1176 - root_mean_squared_error: 0.1561 - val_loss: 0.1058 - val_root_mean_squared_error: 0.1472\n",
            "Epoch 110/500\n",
            "\u001b[1m31/31\u001b[0m \u001b[32m━━━━━━━━━━━━━━━━━━━━\u001b[0m\u001b[37m\u001b[0m \u001b[1m1s\u001b[0m 28ms/step - loss: 0.1172 - root_mean_squared_error: 0.1565 - val_loss: 0.1144 - val_root_mean_squared_error: 0.1549\n",
            "Epoch 111/500\n",
            "\u001b[1m31/31\u001b[0m \u001b[32m━━━━━━━━━━━━━━━━━━━━\u001b[0m\u001b[37m\u001b[0m \u001b[1m1s\u001b[0m 28ms/step - loss: 0.1156 - root_mean_squared_error: 0.1554 - val_loss: 0.0992 - val_root_mean_squared_error: 0.1135\n",
            "Epoch 112/500\n",
            "\u001b[1m31/31\u001b[0m \u001b[32m━━━━━━━━━━━━━━━━━━━━\u001b[0m\u001b[37m\u001b[0m \u001b[1m1s\u001b[0m 29ms/step - loss: 0.1112 - root_mean_squared_error: 0.1481 - val_loss: 0.0937 - val_root_mean_squared_error: 0.1316\n",
            "Epoch 113/500\n",
            "\u001b[1m31/31\u001b[0m \u001b[32m━━━━━━━━━━━━━━━━━━━━\u001b[0m\u001b[37m\u001b[0m \u001b[1m1s\u001b[0m 28ms/step - loss: 0.1144 - root_mean_squared_error: 0.1527 - val_loss: 0.0871 - val_root_mean_squared_error: 0.1072\n"
          ]
        }
      ]
    },
    {
      "cell_type": "code",
      "source": [
        "# Plot training loss (e.g. MAE)\n",
        "plt.plot(history.history['loss'], label='Training Loss')\n",
        "\n",
        "# If you used validation_split or validation_data, you can also plot validation loss\n",
        "if 'val_loss' in history.history:\n",
        "    plt.plot(history.history['val_loss'], label='Validation Loss')\n",
        "\n",
        "plt.title('Model Loss Over Epochs')\n",
        "plt.xlabel('Epoch')\n",
        "plt.ylabel('Loss')\n",
        "plt.legend()\n",
        "plt.show()"
      ],
      "metadata": {
        "colab": {
          "base_uri": "https://localhost:8080/",
          "height": 472
        },
        "id": "yQ_IksihQTW_",
        "outputId": "978ee68e-9b6c-4c8d-acf7-59d6d0c1df1c"
      },
      "execution_count": 452,
      "outputs": [
        {
          "output_type": "display_data",
          "data": {
            "text/plain": [
              "<Figure size 640x480 with 1 Axes>"
            ],
            "image/png": "[encoded data removed]"
          },
          "metadata": {}
        }
      ]
    },
    {
      "cell_type": "markdown",
      "source": [
        "### Making a Prediction"
      ],
      "metadata": {
        "id": "Y0yTi5sPH7GR"
      }
    },
    {
      "cell_type": "code",
      "source": [
        "predictions = model.predict(X_test)\n",
        "predictions = scaler.inverse_transform(predictions)\n",
        "y_predicted_flat = predictions\n"
      ],
      "metadata": {
        "colab": {
          "base_uri": "https://localhost:8080/"
        },
        "id": "I5ZDATFoFpfh",
        "outputId": "c761979c-673b-439c-fdb7-0a9cb848a4a6"
      },
      "execution_count": 468,
      "outputs": [
        {
          "output_type": "stream",
          "name": "stdout",
          "text": [
            "\u001b[1m4/4\u001b[0m \u001b[32m━━━━━━━━━━━━━━━━━━━━\u001b[0m\u001b[37m\u001b[0m \u001b[1m0s\u001b[0m 13ms/step\n"
          ]
        }
      ]
    },
    {
      "cell_type": "code",
      "source": [
        "y_test_inv = scaler.inverse_transform(y_test)\n",
        "y_test_flat = y_test_inv.flatten()"
      ],
      "metadata": {
        "id": "6g5tAA1iitk5"
      },
      "execution_count": 457,
      "outputs": []
    },
    {
      "cell_type": "markdown",
      "source": [
        "### Plotting Actual vs. Predicted Stock Prices"
      ],
      "metadata": {
        "id": "8STaE9W2IFER"
      }
    },
    {
      "cell_type": "code",
      "source": [
        "train = df[:int(0.9 * len(df))]  # 80% + 10%\n",
        "test = df[int(0.9 * len(df)):]   # 10% last portion\n",
        "\n",
        "test = test[-len(predictions):]  # Only keep the last N rows\n",
        "test['Predictions'] = predictions.flatten()\n",
        "\n",
        "plt.figure(figsize=(12,8))\n",
        "plt.plot( train['close'], label=\"Train (Actual)\", color='blue')\n",
        "plt.plot(test['close'], label=\"Test (Actual)\", color='green')\n",
        "plt.plot( test['Predictions'], label=\"Predictions\", color='red')\n",
        "plt.title(\"Our Stock Predictions\")\n",
        "plt.xlabel(\"Date\")\n",
        "plt.ylabel(\"Close Price\")\n",
        "plt.legend()\n",
        "plt.show()"
      ],
      "metadata": {
        "colab": {
          "base_uri": "https://localhost:8080/",
          "height": 718
        },
        "id": "oW8kBPYVCGHM",
        "outputId": "007b31e1-52bd-4415-a125-50917ffd8404"
      },
      "execution_count": 454,
      "outputs": [
        {
          "output_type": "display_data",
          "data": {
            "text/plain": [
              "<Figure size 1200x800 with 1 Axes>"
            ],
            "image/png": "[encoded data removed]"
          },
          "metadata": {}
        }
      ]
    }
  ]
}